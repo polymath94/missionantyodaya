{
 "cells":[
  {
   "cell_type":"markdown",
   "source":[
    "## We can create ease in accessing information from newspapers through web scraping. Here we use popular web scraping tools in Python to generate a CSV file containing requisite information from different sections of the web edition of *Indian Express*, a popular national daily in India. \n",
    "\n",
    "## This notebook can be scheduled to run daily to access info on a regular basis. While news websites can often distract us through information overload, seeking information like this can help us save time and even organize our news sources in a methodical manner. "
   ],
   "attachments":{
    
   },
   "metadata":{
    "datalore":{
     "type":"MD",
     "hide_input_from_viewers":false,
     "hide_output_from_viewers":false,
     "node_id":"MkVu2nnMAPT8o8kqAHRPNW"
    }
   }
  },
  {
   "cell_type":"markdown",
   "source":[
    "### Importing necessary packages"
   ],
   "attachments":{
    
   },
   "metadata":{
    "datalore":{
     "type":"MD",
     "hide_input_from_viewers":false,
     "hide_output_from_viewers":false,
     "node_id":"0RXQkNFrb2aER6iZM8fCkP"
    }
   }
  },
  {
   "cell_type":"code",
   "source":[
    "import pandas as pd\n",
    "import os\n",
    "from datetime import datetime \n",
    "from datetime import timedelta\n",
    "from datetime import date\n",
    "from array import *\n",
    "import pdb"
   ],
   "execution_count":1,
   "outputs":[
    
   ],
   "metadata":{
    "datalore":{
     "type":"CODE",
     "hide_input_from_viewers":false,
     "hide_output_from_viewers":false,
     "node_id":"8fLyaY6IsSA2FvMB1yBz0D"
    }
   }
  },
  {
   "cell_type":"markdown",
   "source":[
    "### Getting articles from UPSC Essentials page\n",
    "\n",
    "#### A page highlighting the most important news sources for the UPSC examination, one of the toughest exams in the world, selecting an elite cohort of officers to the higher echelons of the Indian bureaucracy"
   ],
   "attachments":{
    
   },
   "metadata":{
    "datalore":{
     "type":"MD",
     "hide_input_from_viewers":false,
     "hide_output_from_viewers":false,
     "node_id":"XSbnDnmvOtYMIDDIFYyQ1V"
    }
   }
  },
  {
   "cell_type":"markdown",
   "source":[
    "#### To scrape the articles, we will be using the popular Python package of BeautifulSoup "
   ],
   "attachments":{
    
   },
   "metadata":{
    "datalore":{
     "type":"MD",
     "hide_input_from_viewers":false,
     "hide_output_from_viewers":false,
     "node_id":"hVmTz9GZlqZqmZj1n6RIny"
    }
   }
  },
  {
   "cell_type":"code",
   "source":[
    "%%capture\n",
    "!pip install lxml\n",
    "!pip install html5lib\n",
    "!pip install requests\n",
    "!pip install beautifulsoup4"
   ],
   "execution_count":2,
   "outputs":[
    
   ],
   "metadata":{
    "datalore":{
     "type":"CODE",
     "hide_input_from_viewers":false,
     "hide_output_from_viewers":false,
     "node_id":"PyL0OAwF7dnmM7H7fM87lc"
    }
   }
  },
  {
   "cell_type":"code",
   "source":[
    "from bs4 import BeautifulSoup as bs\n",
    "import requests\n",
    "from urllib.request import Request, urlopen"
   ],
   "execution_count":3,
   "outputs":[
    
   ],
   "metadata":{
    "datalore":{
     "type":"CODE",
     "hide_input_from_viewers":false,
     "hide_output_from_viewers":false,
     "node_id":"h08AII6JjnMqFKQiLOsSRu"
    }
   }
  },
  {
   "cell_type":"code",
   "source":[
    "url = \"https:\/\/indianexpress.com\/section\/upsc-current-affairs\/\"      #URL of the requisite webpage containing UPSC news sources\n",
    "text = requests.get(url)\n",
    "soup = bs(text.content, 'html.parser')                               #Parsing text content for extraction"
   ],
   "execution_count":4,
   "outputs":[
    
   ],
   "metadata":{
    "datalore":{
     "type":"CODE",
     "hide_input_from_viewers":false,
     "hide_output_from_viewers":false,
     "node_id":"96E4tyi4AhrLcl1AbYElmX"
    }
   }
  },
  {
   "cell_type":"code",
   "source":[
    "#soup.prettify()"
   ],
   "execution_count":5,
   "outputs":[
    
   ],
   "metadata":{
    "datalore":{
     "type":"CODE",
     "hide_input_from_viewers":false,
     "hide_output_from_viewers":false,
     "node_id":"o37uUqEmssWigc8LSueAT7"
    }
   }
  },
  {
   "cell_type":"code",
   "source":[
    "sec_cont = []\n",
    "sec_cont = soup.find('div', {'class':'nation'})                    #isolating the required section within the parse text"
   ],
   "execution_count":6,
   "outputs":[
    
   ],
   "metadata":{
    "datalore":{
     "type":"CODE",
     "hide_input_from_viewers":false,
     "hide_output_from_viewers":false,
     "node_id":"SI3FLjEgRgnQYeHQzLqLrF"
    }
   }
  },
  {
   "cell_type":"code",
   "source":[
    "#sec_cont"
   ],
   "execution_count":7,
   "outputs":[
    
   ],
   "metadata":{
    "datalore":{
     "type":"CODE",
     "hide_input_from_viewers":false,
     "hide_output_from_viewers":false,
     "node_id":"vb4PNf9LYW2cBjQQvfwpdE"
    }
   }
  },
  {
   "cell_type":"markdown",
   "source":[
    "#### We will be using the following method to scrape text from each section:\n",
    "##### 1. Identify and list links of news articles in the body of the webpage\n",
    "##### 2. Use links to source the articles\n",
    "##### 3. Elicit requisite information from each article like Title, Date, Subheadings etc. (from the web elements of the page)\n",
    "##### 4. Sort them by dates and filter the articles of the day.\n",
    "##### 5. Create a dataframe to store the information. "
   ],
   "attachments":{
    
   },
   "metadata":{
    "datalore":{
     "type":"MD",
     "hide_input_from_viewers":false,
     "hide_output_from_viewers":false,
     "node_id":"ECTXzsl3Toekw3ABJS6odr"
    }
   }
  },
  {
   "cell_type":"code",
   "source":[
    "upsc_ca_premium_list = []\n",
    "links=[]\n",
    "\n",
    "for link in sec_cont.findAll('a', href=True):                         #function to automate scraping of each article in the list\n",
    "    \n",
    "    upsc_ca = {}\n",
    "    page_url = link.get('href')\n",
    "    \n",
    "    try:\n",
    "\n",
    "        # URL\n",
    "\n",
    "        upsc_ca['URL'] = page_url\n",
    "\n",
    "        # Invoke URL\n",
    "\n",
    "        page = requests.get(page_url)\n",
    "        page_soup = bs(page.content, 'lxml')\n",
    "\n",
    "        # Title\n",
    "\n",
    "        upsc_ca['Title'] = page_soup.find('title').text\n",
    "\n",
    "        # Content\n",
    "\n",
    "        page_content = ''\n",
    "        page_soup_div = page_soup.find_all('h2', {'class': 'synopsis'})\n",
    "        for p_content in page_soup_div:\n",
    "            page_content = page_content + p_content.text\n",
    "\n",
    "        # Content\n",
    "\n",
    "        upsc_ca['Content'] = page_content\n",
    "\n",
    "        # Date Time\n",
    "\n",
    "        page_soup_span = page_soup.find_all('span',{'itemprop': 'dateModified'})\n",
    "        upsc_ca['Publish Date'] = page_soup_span[0].text\n",
    "        \n",
    "        links.append(link.get('href'))\n",
    "        upsc_ca_premium_list.append(upsc_ca)\n",
    "    \n",
    "    except:\n",
    "        print ('ERROR!', page_url)\n",
    "        \n",
    "print ('Extracted', len(upsc_ca_premium_list), 'articles from UPSC Current Affairs')\n",
    "print ('Done')"
   ],
   "execution_count":8,
   "outputs":[
    {
     "name":"stdout",
     "text":[
      "ERROR! https:\/\/indianexpress.com\/section\/upsc-current-affairs\/page\/2\/\n",
      "ERROR! https:\/\/indianexpress.com\/section\/upsc-current-affairs\/page\/3\/\n",
      "ERROR! https:\/\/indianexpress.com\/section\/upsc-current-affairs\/page\/12\/\n",
      "ERROR! https:\/\/indianexpress.com\/section\/upsc-current-affairs\/page\/2\/\n",
      "Extracted 50 articles from UPSC Current Affairs\n",
      "Done\n"
     ],
     "output_type":"stream"
    }
   ],
   "metadata":{
    "datalore":{
     "type":"CODE",
     "hide_input_from_viewers":false,
     "hide_output_from_viewers":false,
     "node_id":"DS2Bjc3hsrtJ5WaOw4wewI"
    }
   }
  },
  {
   "cell_type":"code",
   "source":[
    "upsc_ca_premium_list = pd.DataFrame.from_dict(upsc_ca_premium_list)"
   ],
   "execution_count":9,
   "outputs":[
    
   ],
   "metadata":{
    "datalore":{
     "type":"CODE",
     "hide_input_from_viewers":false,
     "hide_output_from_viewers":false,
     "node_id":"VpGACNc2MYwmSXJ43zKDL5"
    }
   }
  },
  {
   "cell_type":"code",
   "source":[
    "upsc_ca = upsc_ca_premium_list.copy()"
   ],
   "execution_count":10,
   "outputs":[
    
   ],
   "metadata":{
    "datalore":{
     "type":"CODE",
     "hide_input_from_viewers":false,
     "hide_output_from_viewers":false,
     "node_id":"m9X71H3hPZCOcqwvRE6yso"
    }
   }
  },
  {
   "cell_type":"code",
   "source":[
    "upsc_ca['URL']= upsc_ca['URL'].astype('string')\n",
    "upsc_ca['Title']= upsc_ca['Title'].astype('string')\n",
    "upsc_ca['Content']= upsc_ca['Content'].astype('string')\n",
    "upsc_ca['Publish Date']= upsc_ca['Publish Date'].astype('string')\n",
    "\n",
    "upsc_ca = upsc_ca.iloc[::2]    #Dropping duplicate rows\n",
    "\n",
    "upsc_ca['Publish Date'] = upsc_ca['Publish Date'].map(lambda x: x.lstrip('Updated: '.rstrip('')))\n",
    "upsc_ca['Publish Date'] = pd.to_datetime(upsc_ca['Publish Date']).dt.strftime(\"%Y-%m-%d\")\n",
    "\n",
    "today = date.today()\n",
    "yesterday = today - timedelta(days = 1)\n",
    "yesterday = yesterday.strftime(\"%Y-%m-%d\")\n",
    "\n",
    "try:\n",
    "    \n",
    "    upsc_current_affairs = upsc_ca.loc[upsc_ca['Publish Date']==today]\n",
    "    \n",
    "except:\n",
    "    print(\"No UPSC Current Affairs today\")"
   ],
   "execution_count":11,
   "outputs":[
    
   ],
   "metadata":{
    "datalore":{
     "type":"CODE",
     "hide_input_from_viewers":false,
     "hide_output_from_viewers":false,
     "node_id":"VZnH9KJOlwvXXa2c5HhgBW"
    }
   }
  },
  {
   "cell_type":"code",
   "source":[
    "upsc_current_affairs"
   ],
   "execution_count":12,
   "outputs":[
    {
     "data":{
      "text\/html":[
       "<div>\n",
       "<style scoped>\n",
       "    .dataframe tbody tr th:only-of-type {\n",
       "        vertical-align: middle;\n",
       "    }\n",
       "\n",
       "    .dataframe tbody tr th {\n",
       "        vertical-align: top;\n",
       "    }\n",
       "\n",
       "    .dataframe thead th {\n",
       "        text-align: right;\n",
       "    }\n",
       "<\/style>\n",
       "<table border=\"1\" class=\"dataframe\">\n",
       "  <thead>\n",
       "    <tr style=\"text-align: right;\">\n",
       "      <th><\/th>\n",
       "      <th>URL<\/th>\n",
       "      <th>Title<\/th>\n",
       "      <th>Content<\/th>\n",
       "      <th>Publish Date<\/th>\n",
       "    <\/tr>\n",
       "  <\/thead>\n",
       "  <tbody>\n",
       "  <\/tbody>\n",
       "<\/table>\n",
       "<\/div>"
      ]
     },
     "metadata":{
      
     },
     "output_type":"display_data"
    }
   ],
   "metadata":{
    "datalore":{
     "type":"CODE",
     "hide_input_from_viewers":false,
     "hide_output_from_viewers":false,
     "node_id":"RGUTmpK8r5oWnYSi0NvEW3"
    }
   }
  },
  {
   "cell_type":"markdown",
   "source":[
    "# Getting articles from Opinion page"
   ],
   "attachments":{
    
   },
   "metadata":{
    "datalore":{
     "type":"MD",
     "hide_input_from_viewers":false,
     "hide_output_from_viewers":false,
     "node_id":"oGIygicPYyWL981XiZyVIW"
    }
   }
  },
  {
   "cell_type":"code",
   "source":[
    "url = \"https:\/\/indianexpress.com\/section\/opinion\/\"\n",
    "opeds = requests.get(url)\n",
    "soup = bs(opeds.content, 'html.parser')\n",
    "\n",
    "soup.prettify\n",
    "\n",
    "op_cont = []\n",
    "op_cont = soup.find('div', {'class':'o-opin'})\n",
    "\n",
    "oped_list = []\n",
    "articles=[]\n",
    "\n",
    "for article in op_cont.findAll('a', href=True):\n",
    "    \n",
    "    opinion = {}\n",
    "    op_url = article.get('href')\n",
    "    \n",
    "    try:\n",
    "\n",
    "        # URL\n",
    "\n",
    "        opinion['URL'] = op_url\n",
    "\n",
    "        # Invoke URL\n",
    "\n",
    "        page = requests.get(op_url)\n",
    "        page_soup = bs(page.content, 'html.parser')\n",
    "\n",
    "        # Title\n",
    "\n",
    "        page_soup_title = page_soup.find('h1', {'class':'native_story_title'})\n",
    "        opinion['Title']= page_soup_title.text\n",
    "\n",
    "        # Content\n",
    "\n",
    "        page_content = ''\n",
    "        page_soup_div = page_soup.find_all('h2',{\"class\":\"synopsis\"})\n",
    "        for p_content in page_soup_div:\n",
    "            page_content = page_content + p_content.text\n",
    "\n",
    "        # Content\n",
    "\n",
    "        opinion['Content'] = page_content \n",
    "\n",
    "        # Date Time\n",
    "        \n",
    "        dates=[]\n",
    "        dates = page_soup.find('div',{'id':'storycenterbyline'})\n",
    "        for date in dates.select_one('span'):\n",
    "            opinion['Publish Date'] = date.text\n",
    "        \n",
    "        articles.append(article.get('href'))\n",
    "        oped_list.append(opinion)\n",
    "\n",
    "    \n",
    "    except Exception as e:\n",
    "        print(e, op_url)\n",
    "\n",
    "print ('Extracted', len(oped_list),'opinion articles')\n",
    "print ('Done with extracting all op-eds')"
   ],
   "execution_count":13,
   "outputs":[
    {
     "name":"stdout",
     "text":[
      "'NoneType' object has no attribute 'text' https:\/\/indianexpress.com\/profile\/author\/radha-kumar\/\n",
      "'NoneType' object has no attribute 'text' https:\/\/indianexpress.com\/profile\/columnist\/d-sivanandhan\/\n",
      "'NoneType' object has no attribute 'text' https:\/\/indianexpress.com\/profile\/columnist\/c-raja-mohan\/\n",
      "'NoneType' object has no attribute 'text' https:\/\/indianexpress.com\/agency\/editorial\/\n",
      "'NoneType' object has no attribute 'text' https:\/\/indianexpress.com\/profile\/author\/ashok-gulati\/\n",
      "'NoneType' object has no attribute 'text' https:\/\/indianexpress.com\/profile\/columnist\/manish-kumar-prasad\/\n",
      "'NoneType' object has no attribute 'text' https:\/\/indianexpress.com\/agency\/editorial\/\n",
      "'NoneType' object has no attribute 'text' https:\/\/indianexpress.com\/profile\/columnist\/vikram-s-mehta\/\n",
      "'NoneType' object has no attribute 'text' https:\/\/indianexpress.com\/profile\/columnist\/rajiv-pratap-rudy\/\n",
      "'NoneType' object has no attribute 'text' https:\/\/indianexpress.com\/profile\/columnist\/monali-chowdhurie-aziz\/\n",
      "'NoneType' object has no attribute 'text' https:\/\/indianexpress.com\/agency\/editorial\/\n",
      "'NoneType' object has no attribute 'text' https:\/\/indianexpress.com\/profile\/columnist\/kunal-ray\/\n",
      "'NoneType' object has no attribute 'text' https:\/\/indianexpress.com\/profile\/author\/rakesh-batabyal\/\n",
      "'NoneType' object has no attribute 'text' https:\/\/indianexpress.com\/profile\/columnist\/coomi-kapoor\/\n",
      "'NoneType' object has no attribute 'text' https:\/\/indianexpress.com\/profile\/columnist\/alankrita-shrivastava\/\n",
      "'NoneType' object has no attribute 'text' https:\/\/indianexpress.com\/profile\/columnist\/tavleen-singh\/\n",
      "'NoneType' object has no attribute 'text' https:\/\/indianexpress.com\/profile\/columnist\/p-chidambaram\/\n",
      "'NoneType' object has no attribute 'text' https:\/\/indianexpress.com\/profile\/author\/ishan-bakshi\/\n",
      "'NoneType' object has no attribute 'text' https:\/\/indianexpress.com\/agency\/editorial\/\n",
      "'NoneType' object has no attribute 'text' https:\/\/indianexpress.com\/agency\/editorial\/\n",
      "'NoneType' object has no attribute 'text' https:\/\/indianexpress.com\/agency\/editorial\/\n",
      "'NoneType' object has no attribute 'text' https:\/\/indianexpress.com\/agency\/editorial\/\n",
      "'NoneType' object has no attribute 'text' https:\/\/indianexpress.com\/profile\/columnist\/anu-raghunathan\/\n",
      "'NoneType' object has no attribute 'text' https:\/\/indianexpress.com\/profile\/columnist\/feroze-varun-gandhi\/\n",
      "'NoneType' object has no attribute 'text' https:\/\/indianexpress.com\/profile\/columnist\/partha-sen\/\n",
      "'NoneType' object has no attribute 'text' https:\/\/indianexpress.com\/profile\/author\/benita-fernando\/\n",
      "Extracted 50 opinion articles\n",
      "Done with extracting all op-eds\n"
     ],
     "output_type":"stream"
    }
   ],
   "metadata":{
    "datalore":{
     "type":"CODE",
     "hide_input_from_viewers":false,
     "hide_output_from_viewers":false,
     "node_id":"zzNnnCgdj9RcwLVAS5lOOb"
    }
   }
  },
  {
   "cell_type":"code",
   "source":[
    "opinion_list = pd.DataFrame.from_dict(oped_list)\n",
    "opinion_list\n",
    "\n",
    "opinion_list.info()\n",
    "\n",
    "opinion_list['URL']= opinion_list['URL'].astype('string')\n",
    "opinion_list['Title']= opinion_list['Title'].astype('string')\n",
    "opinion_list['Content']= opinion_list['Content'].astype('string')\n",
    "opinion_list['Publish Date']= opinion_list['Publish Date'].astype('string')\n",
    "\n",
    "opinion_list = opinion_list.iloc[::2]    #Dropping duplicate rows\n",
    "\n",
    "\n",
    "opinion_list['Publish Date'] = opinion_list['Publish Date'].map(lambda x: x.lstrip('Updated: '.rstrip('')))\n",
    "opinion_list['Publish Date'] = pd.to_datetime(opinion_list['Publish Date']).dt.strftime(\"%Y-%m-%d\")"
   ],
   "execution_count":14,
   "outputs":[
    {
     "name":"stdout",
     "text":[
      "<class 'pandas.core.frame.DataFrame'>\n",
      "RangeIndex: 50 entries, 0 to 49\n",
      "Data columns (total 4 columns):\n",
      " #   Column        Non-Null Count  Dtype \n",
      "---  ------        --------------  ----- \n",
      " 0   URL           50 non-null     object\n",
      " 1   Title         50 non-null     object\n",
      " 2   Content       50 non-null     object\n",
      " 3   Publish Date  50 non-null     object\n",
      "dtypes: object(4)\n",
      "memory usage: 1.7+ KB\n"
     ],
     "output_type":"stream"
    }
   ],
   "metadata":{
    "datalore":{
     "type":"CODE",
     "hide_input_from_viewers":false,
     "hide_output_from_viewers":false,
     "node_id":"oJpkRZM1N8cWOqxogHjMbk"
    }
   }
  },
  {
   "cell_type":"code",
   "source":[
    "from datetime import date\n",
    "today = date.today().strftime(\"%Y-%m-%d\")\n",
    "today\n",
    "\n",
    "try:\n",
    "    op_columns = opinion_list.loc[opinion_list['Publish Date']==today]\n",
    "except:\n",
    "    op_columns=[]\n",
    "    print(\"No Opinion Columns today\")"
   ],
   "execution_count":15,
   "outputs":[
    
   ],
   "metadata":{
    "datalore":{
     "type":"CODE",
     "hide_input_from_viewers":false,
     "hide_output_from_viewers":false,
     "node_id":"X42sd2Sw7vv0Qmi9w6Jb6n"
    }
   }
  },
  {
   "cell_type":"code",
   "source":[
    "op_columns"
   ],
   "execution_count":16,
   "outputs":[
    {
     "data":{
      "text\/html":[
       "<div>\n",
       "<style scoped>\n",
       "    .dataframe tbody tr th:only-of-type {\n",
       "        vertical-align: middle;\n",
       "    }\n",
       "\n",
       "    .dataframe tbody tr th {\n",
       "        vertical-align: top;\n",
       "    }\n",
       "\n",
       "    .dataframe thead th {\n",
       "        text-align: right;\n",
       "    }\n",
       "<\/style>\n",
       "<table border=\"1\" class=\"dataframe\">\n",
       "  <thead>\n",
       "    <tr style=\"text-align: right;\">\n",
       "      <th><\/th>\n",
       "      <th>URL<\/th>\n",
       "      <th>Title<\/th>\n",
       "      <th>Content<\/th>\n",
       "      <th>Publish Date<\/th>\n",
       "    <\/tr>\n",
       "  <\/thead>\n",
       "  <tbody>\n",
       "    <tr>\n",
       "      <th>0<\/th>\n",
       "      <td>https:\/\/indianexpress.com\/article\/opinion\/colu...<\/td>\n",
       "      <td>India’s response to Sri Lanka and Myanmar cris...<\/td>\n",
       "      <td>Given our land and sea borders with Myanmar, a...<\/td>\n",
       "      <td>2022-08-01<\/td>\n",
       "    <\/tr>\n",
       "    <tr>\n",
       "      <th>2<\/th>\n",
       "      <td>https:\/\/indianexpress.com\/article\/opinion\/colu...<\/td>\n",
       "      <td>The powerful and ubiquitous ED<\/td>\n",
       "      <td>ED's prominence points to a shift: Central age...<\/td>\n",
       "      <td>2022-08-01<\/td>\n",
       "    <\/tr>\n",
       "    <tr>\n",
       "      <th>4<\/th>\n",
       "      <td>https:\/\/indianexpress.com\/article\/opinion\/colu...<\/td>\n",
       "      <td>Pakistan@75: Navigating the way forward<\/td>\n",
       "      <td>Pakistan needs a fresh start. Ending the stale...<\/td>\n",
       "      <td>2022-08-01<\/td>\n",
       "    <\/tr>\n",
       "    <tr>\n",
       "      <th>6<\/th>\n",
       "      <td>https:\/\/indianexpress.com\/article\/opinion\/40-y...<\/td>\n",
       "      <td>August 1, 1982, Forty Years Ago: Bill To Curb ...<\/td>\n",
       "      <td>History was made in the Bihar Assembly when, h...<\/td>\n",
       "      <td>2022-08-01<\/td>\n",
       "    <\/tr>\n",
       "    <tr>\n",
       "      <th>8<\/th>\n",
       "      <td>https:\/\/indianexpress.com\/article\/opinion\/colu...<\/td>\n",
       "      <td>On food inflation, the humble tomato has chall...<\/td>\n",
       "      <td>Ashok Gulati and Manish Kumar Prasad write: Mo...<\/td>\n",
       "      <td>2022-08-01<\/td>\n",
       "    <\/tr>\n",
       "    <tr>\n",
       "      <th>10<\/th>\n",
       "      <td>https:\/\/indianexpress.com\/article\/opinion\/edit...<\/td>\n",
       "      <td>Jharkhand’s cash scandal coupled with the shad...<\/td>\n",
       "      <td>Clearly, coalition politics, especially in the...<\/td>\n",
       "      <td>2022-08-01<\/td>\n",
       "    <\/tr>\n",
       "    <tr>\n",
       "      <th>12<\/th>\n",
       "      <td>https:\/\/indianexpress.com\/article\/opinion\/colu...<\/td>\n",
       "      <td>Naysayers are wrong, India does have success s...<\/td>\n",
       "      <td>Vikram S Mehta writes: Too many people believe...<\/td>\n",
       "      <td>2022-08-01<\/td>\n",
       "    <\/tr>\n",
       "    <tr>\n",
       "      <th>14<\/th>\n",
       "      <td>https:\/\/indianexpress.com\/article\/opinion\/colu...<\/td>\n",
       "      <td>Financial health of airline sector is the real...<\/td>\n",
       "      <td>With multiple low-cost airline operators const...<\/td>\n",
       "      <td>2022-08-01<\/td>\n",
       "    <\/tr>\n",
       "    <tr>\n",
       "      <th>16<\/th>\n",
       "      <td>https:\/\/indianexpress.com\/article\/opinion\/colu...<\/td>\n",
       "      <td>Friend-shoring: The medium-term response for i...<\/td>\n",
       "      <td>Monali Chowdhurie Aziz: Friend-shoring, as the...<\/td>\n",
       "      <td>2022-08-01<\/td>\n",
       "    <\/tr>\n",
       "    <tr>\n",
       "      <th>18<\/th>\n",
       "      <td>https:\/\/indianexpress.com\/article\/opinion\/edit...<\/td>\n",
       "      <td>US-China tensions may turn for the worse if bo...<\/td>\n",
       "      <td>Biden and Xi have apparently agreed to explore...<\/td>\n",
       "      <td>2022-08-01<\/td>\n",
       "    <\/tr>\n",
       "    <tr>\n",
       "      <th>20<\/th>\n",
       "      <td>https:\/\/indianexpress.com\/article\/opinion\/colu...<\/td>\n",
       "      <td>In the failure of ‘Shamshera’, a warning and l...<\/td>\n",
       "      <td>It is getting tougher to compete with good con...<\/td>\n",
       "      <td>2022-08-01<\/td>\n",
       "    <\/tr>\n",
       "    <tr>\n",
       "      <th>48<\/th>\n",
       "      <td>https:\/\/indianexpress.com\/article\/opinion\/colu...<\/td>\n",
       "      <td>Why Olena Zelenska’s Vogue photoshoot makes us...<\/td>\n",
       "      <td>Benita Fernando writes: The problem isn’t that...<\/td>\n",
       "      <td>2022-08-01<\/td>\n",
       "    <\/tr>\n",
       "  <\/tbody>\n",
       "<\/table>\n",
       "<\/div>"
      ]
     },
     "metadata":{
      
     },
     "output_type":"display_data"
    }
   ],
   "metadata":{
    "datalore":{
     "type":"CODE",
     "hide_input_from_viewers":false,
     "hide_output_from_viewers":false,
     "node_id":"OXDAl16qYtiXrh4kYL9lfQ"
    }
   }
  },
  {
   "cell_type":"markdown",
   "source":[
    "# Getting articles from Explained pages"
   ],
   "attachments":{
    
   },
   "metadata":{
    "datalore":{
     "type":"MD",
     "hide_input_from_viewers":false,
     "hide_output_from_viewers":false,
     "node_id":"1RtYNIYbGbFSOZeUteBEYg"
    }
   }
  },
  {
   "cell_type":"code",
   "source":[
    "def explained(x):\n",
    "    url = ((\"https:\/\/indianexpress.com\/about\/explained-\") + (x))\n",
    "    expl_cont = requests.get(url)\n",
    "    soup = bs(expl_cont.content, 'html.parser')\n",
    "\n",
    "    soup.prettify\n",
    "\n",
    "    sec_exp = []\n",
    "    sec_exp = soup.find('div', {'class':'search-result'})\n",
    "\n",
    "    links =[]\n",
    "\n",
    "    for link in sec_exp.findAll('a', href=True):\n",
    "        section_explained = {}\n",
    "        sec_exp_url = link.get('href')\n",
    "    \n",
    "        try:\n",
    "            # URL\n",
    "\n",
    "            section_explained['URL'] = sec_exp_url\n",
    "\n",
    "            # Invoke URL\n",
    "\n",
    "            page = requests.get(sec_exp_url)\n",
    "            page_soup = bs(page.content, 'html.parser')\n",
    "\n",
    "            # Title\n",
    "\n",
    "            page_soup_title = page_soup.find('h1', {'class':'native_story_title'})\n",
    "            section_explained['Title']= page_soup_title.text\n",
    "\n",
    "            # Content\n",
    "\n",
    "            page_content = ''\n",
    "            page_soup_div = page_soup.find_all('h2',{\"class\":\"synopsis\"})\n",
    "            for p_content in page_soup_div:\n",
    "                page_content = page_content + p_content.text\n",
    "\n",
    "            # Content\n",
    "\n",
    "            section_explained['Content'] = page_content \n",
    "\n",
    "            # Date Time\n",
    "\n",
    "            dates=[]\n",
    "            dates = page_soup.find('div',{'id':'storycenterbyline'})\n",
    "            for date in dates.select_one('span'):\n",
    "                section_explained['Publish Date'] = date.text\n",
    "\n",
    "            links.append(link.get('href'))\n",
    "            sec_exp_list.append(section_explained)\n",
    "\n",
    "        except Exception as e:\n",
    "            print(e, sec_exp_url)\n",
    "\n",
    "    print ('Extracted', len(sec_exp_list), 'explained articles in ' + (x))\n",
    "    print ('Done with extracting all explained articles in ' + (x))"
   ],
   "execution_count":17,
   "outputs":[
    
   ],
   "metadata":{
    "datalore":{
     "type":"CODE",
     "hide_input_from_viewers":false,
     "hide_output_from_viewers":false,
     "node_id":"g84E22sT9UNGYzCDmZEyE1"
    }
   }
  },
  {
   "cell_type":"markdown",
   "source":[
    "### Economics"
   ],
   "attachments":{
    
   },
   "metadata":{
    "datalore":{
     "type":"MD",
     "hide_input_from_viewers":false,
     "hide_output_from_viewers":false,
     "node_id":"x2dzNBTQCkAmTCZp7XIctU"
    }
   }
  },
  {
   "cell_type":"code",
   "source":[
    "sec_exp_list = []\n",
    "explained('economics')"
   ],
   "execution_count":18,
   "outputs":[
    {
     "name":"stdout",
     "text":[
      "No connection adapters were found for 'javascript:void(0);' javascript:void(0);\n",
      "Extracted 20 explained articles in economics\n",
      "Done with extracting all explained articles in economics\n"
     ],
     "output_type":"stream"
    }
   ],
   "metadata":{
    "datalore":{
     "type":"CODE",
     "hide_input_from_viewers":false,
     "hide_output_from_viewers":false,
     "node_id":"GZw5BoKAfVqI4SZxqlEbMb"
    }
   }
  },
  {
   "cell_type":"code",
   "source":[
    "sec_exp_list = pd.DataFrame.from_dict(sec_exp_list)\n",
    "sec_exp_list\n",
    "\n",
    "sec_exp_list.info()\n",
    "\n",
    "sec_exp_list['URL']= sec_exp_list['URL'].astype('string')\n",
    "sec_exp_list['Title']= sec_exp_list['Title'].astype('string')\n",
    "sec_exp_list['Content']= sec_exp_list['Content'].astype('string')\n",
    "sec_exp_list['Publish Date']= sec_exp_list['Publish Date'].astype('string')\n",
    "\n",
    "\n",
    "sec_exp_list = sec_exp_list.iloc[::2]    #Dropping duplicate rows\n",
    "sec_exp_list\n",
    "\n",
    "sec_exp_list['Publish Date'] = sec_exp_list['Publish Date'].map(lambda x: x.lstrip('Updated: '.rstrip('')))\n",
    "sec_exp_list['Publish Date']\n",
    "\n",
    "sec_exp_list['Publish Date'] = pd.to_datetime(sec_exp_list['Publish Date']).dt.strftime(\"%Y-%m-%d\")\n",
    "sec_exp_list['Publish Date']\n",
    "\n",
    "try:\n",
    "    econ_explained = sec_exp_list.loc[sec_exp_list['Publish Date']==today]\n",
    "except:\n",
    "    econ_explained=[]\n",
    "    print(\"No Explained Economics today\")\n",
    "    \n",
    "econ_explained"
   ],
   "execution_count":19,
   "outputs":[
    {
     "name":"stdout",
     "text":[
      "<class 'pandas.core.frame.DataFrame'>\n",
      "RangeIndex: 20 entries, 0 to 19\n",
      "Data columns (total 4 columns):\n",
      " #   Column        Non-Null Count  Dtype \n",
      "---  ------        --------------  ----- \n",
      " 0   URL           20 non-null     object\n",
      " 1   Title         20 non-null     object\n",
      " 2   Content       20 non-null     object\n",
      " 3   Publish Date  20 non-null     object\n",
      "dtypes: object(4)\n",
      "memory usage: 768.0+ bytes\n"
     ],
     "output_type":"stream"
    },
    {
     "data":{
      "text\/html":[
       "<div>\n",
       "<style scoped>\n",
       "    .dataframe tbody tr th:only-of-type {\n",
       "        vertical-align: middle;\n",
       "    }\n",
       "\n",
       "    .dataframe tbody tr th {\n",
       "        vertical-align: top;\n",
       "    }\n",
       "\n",
       "    .dataframe thead th {\n",
       "        text-align: right;\n",
       "    }\n",
       "<\/style>\n",
       "<table border=\"1\" class=\"dataframe\">\n",
       "  <thead>\n",
       "    <tr style=\"text-align: right;\">\n",
       "      <th><\/th>\n",
       "      <th>URL<\/th>\n",
       "      <th>Title<\/th>\n",
       "      <th>Content<\/th>\n",
       "      <th>Publish Date<\/th>\n",
       "    <\/tr>\n",
       "  <\/thead>\n",
       "  <tbody>\n",
       "    <tr>\n",
       "      <th>0<\/th>\n",
       "      <td>https:\/\/indianexpress.com\/article\/explained\/ex...<\/td>\n",
       "      <td>Explained: 3 reasons why GST collections conti...<\/td>\n",
       "      <td>Experts say that action against tax evaders, i...<\/td>\n",
       "      <td>2022-08-01<\/td>\n",
       "    <\/tr>\n",
       "    <tr>\n",
       "      <th>2<\/th>\n",
       "      <td>https:\/\/indianexpress.com\/article\/explained\/ex...<\/td>\n",
       "      <td>ExplainSpeaking | Global bright spot or the on...<\/td>\n",
       "      <td>Employment data both from MGNREGA and the annu...<\/td>\n",
       "      <td>2022-08-01<\/td>\n",
       "    <\/tr>\n",
       "  <\/tbody>\n",
       "<\/table>\n",
       "<\/div>"
      ]
     },
     "metadata":{
      
     },
     "output_type":"display_data"
    }
   ],
   "metadata":{
    "datalore":{
     "type":"CODE",
     "hide_input_from_viewers":false,
     "hide_output_from_viewers":false,
     "node_id":"Obh5qjWhfZeJBANbFeOIyI"
    }
   }
  },
  {
   "cell_type":"markdown",
   "source":[
    "### Health"
   ],
   "attachments":{
    
   },
   "metadata":{
    "datalore":{
     "type":"MD",
     "hide_input_from_viewers":false,
     "hide_output_from_viewers":false,
     "node_id":"AYu7ZLK1cOxJs1d7fADJkp"
    }
   }
  },
  {
   "cell_type":"code",
   "source":[
    "sec_exp_list = []\n",
    "explained('health')"
   ],
   "execution_count":20,
   "outputs":[
    {
     "name":"stdout",
     "text":[
      "No connection adapters were found for 'javascript:void(0);' javascript:void(0);\n",
      "Extracted 20 explained articles in health\n",
      "Done with extracting all explained articles in health\n"
     ],
     "output_type":"stream"
    }
   ],
   "metadata":{
    "datalore":{
     "type":"CODE",
     "hide_input_from_viewers":false,
     "hide_output_from_viewers":false,
     "node_id":"CKyFxgCjipz2AmqKa0icLI"
    }
   }
  },
  {
   "cell_type":"code",
   "source":[
    "sec_exp_list = pd.DataFrame.from_dict(sec_exp_list)\n",
    "sec_exp_list\n",
    "\n",
    "sec_exp_list.info()\n",
    "\n",
    "sec_exp_list['URL']= sec_exp_list['URL'].astype('string')\n",
    "sec_exp_list['Title']= sec_exp_list['Title'].astype('string')\n",
    "sec_exp_list['Content']= sec_exp_list['Content'].astype('string')\n",
    "sec_exp_list['Publish Date']= sec_exp_list['Publish Date'].astype('string')\n",
    "\n",
    "\n",
    "sec_exp_list = sec_exp_list.iloc[::2]    #Dropping duplicate rows\n",
    "sec_exp_list\n",
    "\n",
    "sec_exp_list['Publish Date'] = sec_exp_list['Publish Date'].map(lambda x: x.lstrip('Updated: '.rstrip('')))\n",
    "sec_exp_list['Publish Date']\n",
    "\n",
    "sec_exp_list['Publish Date'] = pd.to_datetime(sec_exp_list['Publish Date']).dt.strftime(\"%Y-%m-%d\")\n",
    "sec_exp_list['Publish Date']\n",
    "\n",
    "try:\n",
    "    health_explained = sec_exp_list.loc[sec_exp_list['Publish Date']==today]\n",
    "except:\n",
    "    health_explained=[]\n",
    "    print(\"No Explained Health today\")\n",
    "    \n",
    "health_explained"
   ],
   "execution_count":21,
   "outputs":[
    {
     "name":"stdout",
     "text":[
      "<class 'pandas.core.frame.DataFrame'>\n",
      "RangeIndex: 20 entries, 0 to 19\n",
      "Data columns (total 4 columns):\n",
      " #   Column        Non-Null Count  Dtype \n",
      "---  ------        --------------  ----- \n",
      " 0   URL           20 non-null     object\n",
      " 1   Title         20 non-null     object\n",
      " 2   Content       20 non-null     object\n",
      " 3   Publish Date  20 non-null     object\n",
      "dtypes: object(4)\n",
      "memory usage: 768.0+ bytes\n"
     ],
     "output_type":"stream"
    },
    {
     "data":{
      "text\/html":[
       "<div>\n",
       "<style scoped>\n",
       "    .dataframe tbody tr th:only-of-type {\n",
       "        vertical-align: middle;\n",
       "    }\n",
       "\n",
       "    .dataframe tbody tr th {\n",
       "        vertical-align: top;\n",
       "    }\n",
       "\n",
       "    .dataframe thead th {\n",
       "        text-align: right;\n",
       "    }\n",
       "<\/style>\n",
       "<table border=\"1\" class=\"dataframe\">\n",
       "  <thead>\n",
       "    <tr style=\"text-align: right;\">\n",
       "      <th><\/th>\n",
       "      <th>URL<\/th>\n",
       "      <th>Title<\/th>\n",
       "      <th>Content<\/th>\n",
       "      <th>Publish Date<\/th>\n",
       "    <\/tr>\n",
       "  <\/thead>\n",
       "  <tbody>\n",
       "    <tr>\n",
       "      <th>0<\/th>\n",
       "      <td>https:\/\/indianexpress.com\/article\/explained\/ex...<\/td>\n",
       "      <td>Explained: A man who had monkeypox has died in...<\/td>\n",
       "      <td>It is not yet known what comorbidities this pa...<\/td>\n",
       "      <td>2022-08-01<\/td>\n",
       "    <\/tr>\n",
       "  <\/tbody>\n",
       "<\/table>\n",
       "<\/div>"
      ]
     },
     "metadata":{
      
     },
     "output_type":"display_data"
    }
   ],
   "metadata":{
    "datalore":{
     "type":"CODE",
     "hide_input_from_viewers":false,
     "hide_output_from_viewers":false,
     "node_id":"i8Pg27zS7a2OFhJTpSR9y6"
    }
   }
  },
  {
   "cell_type":"markdown",
   "source":[
    "### Politics"
   ],
   "attachments":{
    
   },
   "metadata":{
    "datalore":{
     "type":"MD",
     "hide_input_from_viewers":false,
     "hide_output_from_viewers":false,
     "node_id":"Lca5XfjjqT6xVEcc2ZPi6r"
    }
   }
  },
  {
   "cell_type":"code",
   "source":[
    "sec_exp_list = []\n",
    "explained('politics')"
   ],
   "execution_count":22,
   "outputs":[
    {
     "name":"stdout",
     "text":[
      "No connection adapters were found for 'javascript:void(0);' javascript:void(0);\n",
      "Extracted 20 explained articles in politics\n",
      "Done with extracting all explained articles in politics\n"
     ],
     "output_type":"stream"
    }
   ],
   "metadata":{
    "datalore":{
     "type":"CODE",
     "hide_input_from_viewers":false,
     "hide_output_from_viewers":false,
     "node_id":"2xLyHE0iDjnDBymYSckP2u"
    }
   }
  },
  {
   "cell_type":"code",
   "source":[
    "sec_exp_list = pd.DataFrame.from_dict(sec_exp_list)\n",
    "sec_exp_list\n",
    "\n",
    "sec_exp_list.info()\n",
    "\n",
    "sec_exp_list['URL']= sec_exp_list['URL'].astype('string')\n",
    "sec_exp_list['Title']= sec_exp_list['Title'].astype('string')\n",
    "sec_exp_list['Content']= sec_exp_list['Content'].astype('string')\n",
    "sec_exp_list['Publish Date']= sec_exp_list['Publish Date'].astype('string')\n",
    "\n",
    "\n",
    "sec_exp_list = sec_exp_list.iloc[::2]    #Dropping duplicate rows\n",
    "sec_exp_list\n",
    "\n",
    "sec_exp_list['Publish Date'] = sec_exp_list['Publish Date'].map(lambda x: x.lstrip('Updated: '.rstrip('')))\n",
    "sec_exp_list['Publish Date']\n",
    "\n",
    "sec_exp_list['Publish Date'] = pd.to_datetime(sec_exp_list['Publish Date']).dt.strftime(\"%Y-%m-%d\")\n",
    "sec_exp_list['Publish Date']\n",
    "\n",
    "try:\n",
    "    politics_explained = sec_exp_list.loc[sec_exp_list['Publish Date']==today]\n",
    "except:\n",
    "    politics_explained=[]\n",
    "    print(\"No Explained Politics today\")\n",
    "    \n",
    "politics_explained"
   ],
   "execution_count":23,
   "outputs":[
    {
     "name":"stdout",
     "text":[
      "<class 'pandas.core.frame.DataFrame'>\n",
      "RangeIndex: 20 entries, 0 to 19\n",
      "Data columns (total 4 columns):\n",
      " #   Column        Non-Null Count  Dtype \n",
      "---  ------        --------------  ----- \n",
      " 0   URL           20 non-null     object\n",
      " 1   Title         20 non-null     object\n",
      " 2   Content       20 non-null     object\n",
      " 3   Publish Date  20 non-null     object\n",
      "dtypes: object(4)\n",
      "memory usage: 768.0+ bytes\n"
     ],
     "output_type":"stream"
    },
    {
     "data":{
      "text\/html":[
       "<div>\n",
       "<style scoped>\n",
       "    .dataframe tbody tr th:only-of-type {\n",
       "        vertical-align: middle;\n",
       "    }\n",
       "\n",
       "    .dataframe tbody tr th {\n",
       "        vertical-align: top;\n",
       "    }\n",
       "\n",
       "    .dataframe thead th {\n",
       "        text-align: right;\n",
       "    }\n",
       "<\/style>\n",
       "<table border=\"1\" class=\"dataframe\">\n",
       "  <thead>\n",
       "    <tr style=\"text-align: right;\">\n",
       "      <th><\/th>\n",
       "      <th>URL<\/th>\n",
       "      <th>Title<\/th>\n",
       "      <th>Content<\/th>\n",
       "      <th>Publish Date<\/th>\n",
       "    <\/tr>\n",
       "  <\/thead>\n",
       "  <tbody>\n",
       "  <\/tbody>\n",
       "<\/table>\n",
       "<\/div>"
      ]
     },
     "metadata":{
      
     },
     "output_type":"display_data"
    }
   ],
   "metadata":{
    "datalore":{
     "type":"CODE",
     "hide_input_from_viewers":false,
     "hide_output_from_viewers":false,
     "node_id":"QoLk14u8PmHmcJePP5Bjev"
    }
   }
  },
  {
   "cell_type":"markdown",
   "source":[
    "### Culture"
   ],
   "attachments":{
    
   },
   "metadata":{
    "datalore":{
     "type":"MD",
     "hide_input_from_viewers":false,
     "hide_output_from_viewers":false,
     "node_id":"HRoBesVQpakbq8Kv3zidZO"
    }
   }
  },
  {
   "cell_type":"code",
   "source":[
    "sec_exp_list = []\n",
    "explained('culture')"
   ],
   "execution_count":24,
   "outputs":[
    {
     "name":"stdout",
     "text":[
      "No connection adapters were found for 'javascript:void(0);' javascript:void(0);\n",
      "Extracted 20 explained articles in culture\n",
      "Done with extracting all explained articles in culture\n"
     ],
     "output_type":"stream"
    }
   ],
   "metadata":{
    "datalore":{
     "type":"CODE",
     "hide_input_from_viewers":false,
     "hide_output_from_viewers":false,
     "node_id":"ECQ94x92i0A3OHg7H0aqSD"
    }
   }
  },
  {
   "cell_type":"code",
   "source":[
    "sec_exp_list = pd.DataFrame.from_dict(sec_exp_list)\n",
    "sec_exp_list\n",
    "\n",
    "sec_exp_list.info()\n",
    "\n",
    "sec_exp_list['URL']= sec_exp_list['URL'].astype('string')\n",
    "sec_exp_list['Title']= sec_exp_list['Title'].astype('string')\n",
    "sec_exp_list['Content']= sec_exp_list['Content'].astype('string')\n",
    "sec_exp_list['Publish Date']= sec_exp_list['Publish Date'].astype('string')\n",
    "\n",
    "\n",
    "sec_exp_list = sec_exp_list.iloc[::2]    #Dropping duplicate rows\n",
    "sec_exp_list\n",
    "\n",
    "sec_exp_list['Publish Date'] = sec_exp_list['Publish Date'].map(lambda x: x.lstrip('Updated: '.rstrip('')))\n",
    "sec_exp_list['Publish Date']\n",
    "\n",
    "sec_exp_list['Publish Date'] = pd.to_datetime(sec_exp_list['Publish Date']).dt.strftime(\"%Y-%m-%d\")\n",
    "sec_exp_list['Publish Date']\n",
    "\n",
    "try:\n",
    "    culture_explained = sec_exp_list.loc[sec_exp_list['Publish Date']==today]\n",
    "except:\n",
    "    culture_explained=[]\n",
    "    print(\"No Explained Culture today\")\n",
    "    \n",
    "culture_explained"
   ],
   "execution_count":25,
   "outputs":[
    {
     "name":"stdout",
     "text":[
      "<class 'pandas.core.frame.DataFrame'>\n",
      "RangeIndex: 20 entries, 0 to 19\n",
      "Data columns (total 4 columns):\n",
      " #   Column        Non-Null Count  Dtype \n",
      "---  ------        --------------  ----- \n",
      " 0   URL           20 non-null     object\n",
      " 1   Title         20 non-null     object\n",
      " 2   Content       20 non-null     object\n",
      " 3   Publish Date  20 non-null     object\n",
      "dtypes: object(4)\n",
      "memory usage: 768.0+ bytes\n"
     ],
     "output_type":"stream"
    },
    {
     "data":{
      "text\/html":[
       "<div>\n",
       "<style scoped>\n",
       "    .dataframe tbody tr th:only-of-type {\n",
       "        vertical-align: middle;\n",
       "    }\n",
       "\n",
       "    .dataframe tbody tr th {\n",
       "        vertical-align: top;\n",
       "    }\n",
       "\n",
       "    .dataframe thead th {\n",
       "        text-align: right;\n",
       "    }\n",
       "<\/style>\n",
       "<table border=\"1\" class=\"dataframe\">\n",
       "  <thead>\n",
       "    <tr style=\"text-align: right;\">\n",
       "      <th><\/th>\n",
       "      <th>URL<\/th>\n",
       "      <th>Title<\/th>\n",
       "      <th>Content<\/th>\n",
       "      <th>Publish Date<\/th>\n",
       "    <\/tr>\n",
       "  <\/thead>\n",
       "  <tbody>\n",
       "  <\/tbody>\n",
       "<\/table>\n",
       "<\/div>"
      ]
     },
     "metadata":{
      
     },
     "output_type":"display_data"
    }
   ],
   "metadata":{
    "datalore":{
     "type":"CODE",
     "hide_input_from_viewers":false,
     "hide_output_from_viewers":false,
     "node_id":"LKPvbHItXQ8jSUhKJnlzes"
    }
   }
  },
  {
   "cell_type":"markdown",
   "source":[
    "### Global"
   ],
   "attachments":{
    
   },
   "metadata":{
    "datalore":{
     "type":"MD",
     "hide_input_from_viewers":false,
     "hide_output_from_viewers":false,
     "node_id":"6fIMxMcSyCrW4GQpKM4rxI"
    }
   }
  },
  {
   "cell_type":"code",
   "source":[
    "sec_exp_list = []\n",
    "explained('global')"
   ],
   "execution_count":26,
   "outputs":[
    {
     "name":"stdout",
     "text":[
      "No connection adapters were found for 'javascript:void(0);' javascript:void(0);\n",
      "Extracted 20 explained articles in global\n",
      "Done with extracting all explained articles in global\n"
     ],
     "output_type":"stream"
    }
   ],
   "metadata":{
    "datalore":{
     "type":"CODE",
     "hide_input_from_viewers":false,
     "hide_output_from_viewers":false,
     "node_id":"MCMD2q7OgvD5IiWpqKjdsx"
    }
   }
  },
  {
   "cell_type":"code",
   "source":[
    "sec_exp_list = pd.DataFrame.from_dict(sec_exp_list)\n",
    "sec_exp_list\n",
    "\n",
    "sec_exp_list.info()\n",
    "\n",
    "sec_exp_list['URL']= sec_exp_list['URL'].astype('string')\n",
    "sec_exp_list['Title']= sec_exp_list['Title'].astype('string')\n",
    "sec_exp_list['Content']= sec_exp_list['Content'].astype('string')\n",
    "sec_exp_list['Publish Date']= sec_exp_list['Publish Date'].astype('string')\n",
    "\n",
    "\n",
    "sec_exp_list = sec_exp_list.iloc[::2]    #Dropping duplicate rows\n",
    "sec_exp_list\n",
    "\n",
    "sec_exp_list['Publish Date'] = sec_exp_list['Publish Date'].map(lambda x: x.lstrip('Updated: '.rstrip('')))\n",
    "sec_exp_list['Publish Date']\n",
    "\n",
    "sec_exp_list['Publish Date'] = pd.to_datetime(sec_exp_list['Publish Date']).dt.strftime(\"%Y-%m-%d\")\n",
    "sec_exp_list['Publish Date']\n",
    "\n",
    "try:\n",
    "    global_explained = sec_exp_list.loc[sec_exp_list['Publish Date']==yesterday]\n",
    "except:\n",
    "    global_explained=[]\n",
    "    print(\"No Explained Global today\")\n",
    "    \n",
    "global_explained"
   ],
   "execution_count":27,
   "outputs":[
    {
     "name":"stdout",
     "text":[
      "<class 'pandas.core.frame.DataFrame'>\n",
      "RangeIndex: 20 entries, 0 to 19\n",
      "Data columns (total 4 columns):\n",
      " #   Column        Non-Null Count  Dtype \n",
      "---  ------        --------------  ----- \n",
      " 0   URL           20 non-null     object\n",
      " 1   Title         20 non-null     object\n",
      " 2   Content       20 non-null     object\n",
      " 3   Publish Date  20 non-null     object\n",
      "dtypes: object(4)\n",
      "memory usage: 768.0+ bytes\n"
     ],
     "output_type":"stream"
    },
    {
     "data":{
      "text\/html":[
       "<div>\n",
       "<style scoped>\n",
       "    .dataframe tbody tr th:only-of-type {\n",
       "        vertical-align: middle;\n",
       "    }\n",
       "\n",
       "    .dataframe tbody tr th {\n",
       "        vertical-align: top;\n",
       "    }\n",
       "\n",
       "    .dataframe thead th {\n",
       "        text-align: right;\n",
       "    }\n",
       "<\/style>\n",
       "<table border=\"1\" class=\"dataframe\">\n",
       "  <thead>\n",
       "    <tr style=\"text-align: right;\">\n",
       "      <th><\/th>\n",
       "      <th>URL<\/th>\n",
       "      <th>Title<\/th>\n",
       "      <th>Content<\/th>\n",
       "      <th>Publish Date<\/th>\n",
       "    <\/tr>\n",
       "  <\/thead>\n",
       "  <tbody>\n",
       "    <tr>\n",
       "      <th>0<\/th>\n",
       "      <td>https:\/\/indianexpress.com\/article\/explained\/ex...<\/td>\n",
       "      <td>Explained: What’s driving the power struggle i...<\/td>\n",
       "      <td>The tussle over who gets to form the next gove...<\/td>\n",
       "      <td>2022-07-31<\/td>\n",
       "    <\/tr>\n",
       "  <\/tbody>\n",
       "<\/table>\n",
       "<\/div>"
      ]
     },
     "metadata":{
      
     },
     "output_type":"display_data"
    }
   ],
   "metadata":{
    "datalore":{
     "type":"CODE",
     "hide_input_from_viewers":false,
     "hide_output_from_viewers":false,
     "node_id":"QElKqMIeD9Mlm5XmtZeH6p"
    }
   }
  },
  {
   "cell_type":"markdown",
   "source":[
    "### Sci-tech"
   ],
   "attachments":{
    
   },
   "metadata":{
    "datalore":{
     "type":"MD",
     "hide_input_from_viewers":false,
     "hide_output_from_viewers":false,
     "node_id":"5DbJHXLpVqx6OWlg9lSuUf"
    }
   }
  },
  {
   "cell_type":"code",
   "source":[
    "sec_exp_list = []\n",
    "explained('sci-tech')"
   ],
   "execution_count":28,
   "outputs":[
    {
     "name":"stdout",
     "text":[
      "No connection adapters were found for 'javascript:void(0);' javascript:void(0);\n",
      "Extracted 20 explained articles in sci-tech\n",
      "Done with extracting all explained articles in sci-tech\n"
     ],
     "output_type":"stream"
    }
   ],
   "metadata":{
    "datalore":{
     "type":"CODE",
     "hide_input_from_viewers":false,
     "hide_output_from_viewers":false,
     "node_id":"olKQ3Ve1KDYA7hAgbYsqCh"
    }
   }
  },
  {
   "cell_type":"code",
   "source":[
    "sec_exp_list = pd.DataFrame.from_dict(sec_exp_list)\n",
    "sec_exp_list\n",
    "\n",
    "sec_exp_list.info()\n",
    "\n",
    "sec_exp_list['URL']= sec_exp_list['URL'].astype('string')\n",
    "sec_exp_list['Title']= sec_exp_list['Title'].astype('string')\n",
    "sec_exp_list['Content']= sec_exp_list['Content'].astype('string')\n",
    "sec_exp_list['Publish Date']= sec_exp_list['Publish Date'].astype('string')\n",
    "\n",
    "\n",
    "sec_exp_list = sec_exp_list.iloc[::2]    #Dropping duplicate rows\n",
    "sec_exp_list\n",
    "\n",
    "sec_exp_list['Publish Date'] = sec_exp_list['Publish Date'].map(lambda x: x.lstrip('Updated: '.rstrip('')))\n",
    "sec_exp_list['Publish Date']\n",
    "\n",
    "sec_exp_list['Publish Date'] = pd.to_datetime(sec_exp_list['Publish Date']).dt.strftime(\"%Y-%m-%d\")\n",
    "sec_exp_list['Publish Date']\n",
    "\n",
    "try:\n",
    "    scitech_explained = sec_exp_list.loc[sec_exp_list['Publish Date']==today]\n",
    "except:\n",
    "    scitech_explained=[]\n",
    "    print(\"No Explained Sci-Tech today\")\n",
    "    \n",
    "scitech_explained"
   ],
   "execution_count":29,
   "outputs":[
    {
     "name":"stdout",
     "text":[
      "<class 'pandas.core.frame.DataFrame'>\n",
      "RangeIndex: 20 entries, 0 to 19\n",
      "Data columns (total 4 columns):\n",
      " #   Column        Non-Null Count  Dtype \n",
      "---  ------        --------------  ----- \n",
      " 0   URL           20 non-null     object\n",
      " 1   Title         20 non-null     object\n",
      " 2   Content       20 non-null     object\n",
      " 3   Publish Date  20 non-null     object\n",
      "dtypes: object(4)\n",
      "memory usage: 768.0+ bytes\n"
     ],
     "output_type":"stream"
    },
    {
     "data":{
      "text\/html":[
       "<div>\n",
       "<style scoped>\n",
       "    .dataframe tbody tr th:only-of-type {\n",
       "        vertical-align: middle;\n",
       "    }\n",
       "\n",
       "    .dataframe tbody tr th {\n",
       "        vertical-align: top;\n",
       "    }\n",
       "\n",
       "    .dataframe thead th {\n",
       "        text-align: right;\n",
       "    }\n",
       "<\/style>\n",
       "<table border=\"1\" class=\"dataframe\">\n",
       "  <thead>\n",
       "    <tr style=\"text-align: right;\">\n",
       "      <th><\/th>\n",
       "      <th>URL<\/th>\n",
       "      <th>Title<\/th>\n",
       "      <th>Content<\/th>\n",
       "      <th>Publish Date<\/th>\n",
       "    <\/tr>\n",
       "  <\/thead>\n",
       "  <tbody>\n",
       "  <\/tbody>\n",
       "<\/table>\n",
       "<\/div>"
      ]
     },
     "metadata":{
      
     },
     "output_type":"display_data"
    }
   ],
   "metadata":{
    "datalore":{
     "type":"CODE",
     "hide_input_from_viewers":false,
     "hide_output_from_viewers":false,
     "node_id":"qnRdizAkuThojAxt9tN021"
    }
   }
  },
  {
   "cell_type":"markdown",
   "source":[
    "### Climate"
   ],
   "attachments":{
    
   },
   "metadata":{
    "datalore":{
     "type":"MD",
     "hide_input_from_viewers":false,
     "hide_output_from_viewers":false,
     "node_id":"VSU79rDW2otY1N3yXBltyE"
    }
   }
  },
  {
   "cell_type":"code",
   "source":[
    "sec_exp_list = []\n",
    "explained('climate')"
   ],
   "execution_count":30,
   "outputs":[
    {
     "name":"stdout",
     "text":[
      "No connection adapters were found for 'javascript:void(0);' javascript:void(0);\n",
      "Extracted 20 explained articles in climate\n",
      "Done with extracting all explained articles in climate\n"
     ],
     "output_type":"stream"
    }
   ],
   "metadata":{
    "datalore":{
     "type":"CODE",
     "hide_input_from_viewers":false,
     "hide_output_from_viewers":false,
     "node_id":"UK0ST261YWUWsBdIdESLkQ"
    }
   }
  },
  {
   "cell_type":"code",
   "source":[
    "sec_exp_list = pd.DataFrame.from_dict(sec_exp_list)\n",
    "sec_exp_list\n",
    "\n",
    "sec_exp_list.info()\n",
    "\n",
    "sec_exp_list['URL']= sec_exp_list['URL'].astype('string')\n",
    "sec_exp_list['Title']= sec_exp_list['Title'].astype('string')\n",
    "sec_exp_list['Content']= sec_exp_list['Content'].astype('string')\n",
    "sec_exp_list['Publish Date']= sec_exp_list['Publish Date'].astype('string')\n",
    "\n",
    "\n",
    "sec_exp_list = sec_exp_list.iloc[::2]    #Dropping duplicate rows\n",
    "sec_exp_list\n",
    "\n",
    "sec_exp_list['Publish Date'] = sec_exp_list['Publish Date'].map(lambda x: x.lstrip('Updated: '.rstrip('')))\n",
    "sec_exp_list['Publish Date']\n",
    "\n",
    "sec_exp_list['Publish Date'] = pd.to_datetime(sec_exp_list['Publish Date']).dt.strftime(\"%Y-%m-%d\")\n",
    "sec_exp_list['Publish Date']\n",
    "\n",
    "try:\n",
    "    climate_explained = sec_exp_list.loc[sec_exp_list['Publish Date']==today]\n",
    "except:\n",
    "    climate_explained=[]\n",
    "    print(\"No Explained Climate today\")\n",
    "    \n",
    "climate_explained"
   ],
   "execution_count":31,
   "outputs":[
    {
     "name":"stdout",
     "text":[
      "<class 'pandas.core.frame.DataFrame'>\n",
      "RangeIndex: 20 entries, 0 to 19\n",
      "Data columns (total 4 columns):\n",
      " #   Column        Non-Null Count  Dtype \n",
      "---  ------        --------------  ----- \n",
      " 0   URL           20 non-null     object\n",
      " 1   Title         20 non-null     object\n",
      " 2   Content       20 non-null     object\n",
      " 3   Publish Date  20 non-null     object\n",
      "dtypes: object(4)\n",
      "memory usage: 768.0+ bytes\n"
     ],
     "output_type":"stream"
    },
    {
     "data":{
      "text\/html":[
       "<div>\n",
       "<style scoped>\n",
       "    .dataframe tbody tr th:only-of-type {\n",
       "        vertical-align: middle;\n",
       "    }\n",
       "\n",
       "    .dataframe tbody tr th {\n",
       "        vertical-align: top;\n",
       "    }\n",
       "\n",
       "    .dataframe thead th {\n",
       "        text-align: right;\n",
       "    }\n",
       "<\/style>\n",
       "<table border=\"1\" class=\"dataframe\">\n",
       "  <thead>\n",
       "    <tr style=\"text-align: right;\">\n",
       "      <th><\/th>\n",
       "      <th>URL<\/th>\n",
       "      <th>Title<\/th>\n",
       "      <th>Content<\/th>\n",
       "      <th>Publish Date<\/th>\n",
       "    <\/tr>\n",
       "  <\/thead>\n",
       "  <tbody>\n",
       "  <\/tbody>\n",
       "<\/table>\n",
       "<\/div>"
      ]
     },
     "metadata":{
      
     },
     "output_type":"display_data"
    }
   ],
   "metadata":{
    "datalore":{
     "type":"CODE",
     "hide_input_from_viewers":false,
     "hide_output_from_viewers":false,
     "node_id":"OONuH3Rf0ofUc2Q8zK5gjr"
    }
   }
  },
  {
   "cell_type":"code",
   "source":[
    "explained_list = [econ_explained,health_explained,politics_explained, culture_explained, global_explained, scitech_explained, climate_explained]"
   ],
   "execution_count":32,
   "outputs":[
    
   ],
   "metadata":{
    "datalore":{
     "type":"CODE",
     "hide_input_from_viewers":false,
     "hide_output_from_viewers":false,
     "node_id":"xsV108VqJqa2LZDXM5rI9l"
    }
   }
  },
  {
   "cell_type":"code",
   "source":[
    "explained = pd.concat(explained_list)\n",
    "explained"
   ],
   "execution_count":33,
   "outputs":[
    {
     "data":{
      "text\/html":[
       "<div>\n",
       "<style scoped>\n",
       "    .dataframe tbody tr th:only-of-type {\n",
       "        vertical-align: middle;\n",
       "    }\n",
       "\n",
       "    .dataframe tbody tr th {\n",
       "        vertical-align: top;\n",
       "    }\n",
       "\n",
       "    .dataframe thead th {\n",
       "        text-align: right;\n",
       "    }\n",
       "<\/style>\n",
       "<table border=\"1\" class=\"dataframe\">\n",
       "  <thead>\n",
       "    <tr style=\"text-align: right;\">\n",
       "      <th><\/th>\n",
       "      <th>URL<\/th>\n",
       "      <th>Title<\/th>\n",
       "      <th>Content<\/th>\n",
       "      <th>Publish Date<\/th>\n",
       "    <\/tr>\n",
       "  <\/thead>\n",
       "  <tbody>\n",
       "    <tr>\n",
       "      <th>0<\/th>\n",
       "      <td>https:\/\/indianexpress.com\/article\/explained\/ex...<\/td>\n",
       "      <td>Explained: 3 reasons why GST collections conti...<\/td>\n",
       "      <td>Experts say that action against tax evaders, i...<\/td>\n",
       "      <td>2022-08-01<\/td>\n",
       "    <\/tr>\n",
       "    <tr>\n",
       "      <th>2<\/th>\n",
       "      <td>https:\/\/indianexpress.com\/article\/explained\/ex...<\/td>\n",
       "      <td>ExplainSpeaking | Global bright spot or the on...<\/td>\n",
       "      <td>Employment data both from MGNREGA and the annu...<\/td>\n",
       "      <td>2022-08-01<\/td>\n",
       "    <\/tr>\n",
       "    <tr>\n",
       "      <th>0<\/th>\n",
       "      <td>https:\/\/indianexpress.com\/article\/explained\/ex...<\/td>\n",
       "      <td>Explained: A man who had monkeypox has died in...<\/td>\n",
       "      <td>It is not yet known what comorbidities this pa...<\/td>\n",
       "      <td>2022-08-01<\/td>\n",
       "    <\/tr>\n",
       "    <tr>\n",
       "      <th>0<\/th>\n",
       "      <td>https:\/\/indianexpress.com\/article\/explained\/ex...<\/td>\n",
       "      <td>Explained: What’s driving the power struggle i...<\/td>\n",
       "      <td>The tussle over who gets to form the next gove...<\/td>\n",
       "      <td>2022-07-31<\/td>\n",
       "    <\/tr>\n",
       "  <\/tbody>\n",
       "<\/table>\n",
       "<\/div>"
      ]
     },
     "metadata":{
      
     },
     "output_type":"display_data"
    }
   ],
   "metadata":{
    "datalore":{
     "type":"CODE",
     "hide_input_from_viewers":false,
     "hide_output_from_viewers":false,
     "node_id":"W295IxNovEhI7LY1NY7wC9"
    }
   }
  },
  {
   "cell_type":"markdown",
   "source":[
    "# Science section"
   ],
   "attachments":{
    
   },
   "metadata":{
    "datalore":{
     "type":"MD",
     "hide_input_from_viewers":false,
     "hide_output_from_viewers":false,
     "node_id":"bTSVmly2G1gmr24gP6WR8X"
    }
   }
  },
  {
   "cell_type":"code",
   "source":[
    "url = \"https:\/\/indianexpress.com\/section\/science\/\"\n",
    "markup = requests.get(url)\n",
    "soup = bs(markup.content, 'html.parser')\n",
    "\n",
    "soup.prettify\n",
    "\n",
    "sci_cont = []\n",
    "sci_cont = soup.find('div', {'class':'nation'})\n",
    "\n",
    "science_list = []\n",
    "links=[]\n",
    "\n",
    "for link in sci_cont.findAll('a', href=True):\n",
    "    \n",
    "    science = {}\n",
    "    sci_url = link.get('href')\n",
    "    \n",
    "    try:\n",
    "\n",
    "        # URL\n",
    "\n",
    "        science['URL'] = sci_url\n",
    "\n",
    "        # Invoke URL\n",
    "\n",
    "        page = requests.get(sci_url)\n",
    "        page_soup = bs(page.content, 'html.parser')\n",
    "\n",
    "        # Title\n",
    "\n",
    "        page_soup_title = page_soup.find('h1', {'class':'native_story_title'})\n",
    "        science['Title']= page_soup_title.text\n",
    "\n",
    "        # Content\n",
    "\n",
    "        page_content = ''\n",
    "        page_soup_div = page_soup.find_all('h2',{\"class\":\"synopsis\"})\n",
    "        for p_content in page_soup_div:\n",
    "            page_content = page_content + p_content.text\n",
    "\n",
    "        # Content\n",
    "\n",
    "        science['Content'] = page_content \n",
    "\n",
    "        # Date Time\n",
    "        \n",
    "        dates=[]\n",
    "        dates = page_soup.find('div',{'id':'storycenterbyline'})\n",
    "        for date in dates.select_one('span'):\n",
    "            science['Publish Date'] = date.text\n",
    "        \n",
    "        links.append(link.get('href'))\n",
    "        science_list.append(science)\n",
    "    \n",
    "    except Exception as e:\n",
    "        print(e, sci_url)\n",
    "        \n",
    "print ('Extracted', len(science_list), 'science articles')\n",
    "print ('Done with extracting all science articles')"
   ],
   "execution_count":34,
   "outputs":[
    {
     "name":"stdout",
     "text":[
      "'NoneType' object has no attribute 'text' https:\/\/indianexpress.com\/section\/science\/page\/2\/\n",
      "'NoneType' object has no attribute 'text' https:\/\/indianexpress.com\/section\/science\/page\/3\/\n",
      "'NoneType' object has no attribute 'text' https:\/\/indianexpress.com\/section\/science\/page\/224\/\n",
      "'NoneType' object has no attribute 'text' https:\/\/indianexpress.com\/section\/science\/page\/2\/\n",
      "Extracted 50 science articles\n",
      "Done with extracting all science articles\n"
     ],
     "output_type":"stream"
    }
   ],
   "metadata":{
    "datalore":{
     "type":"CODE",
     "hide_input_from_viewers":false,
     "hide_output_from_viewers":false,
     "node_id":"mrKEBFixxURXrnS12nIrJe"
    }
   }
  },
  {
   "cell_type":"code",
   "source":[
    "science = pd.DataFrame.from_dict(science_list)\n",
    "science\n",
    "\n",
    "science.info()\n",
    "\n",
    "science['URL']= science['URL'].astype('string')\n",
    "science['Title']= science['Title'].astype('string')\n",
    "science['Content']= science['Content'].astype('string')\n",
    "science['Publish Date']= science['Publish Date'].astype('string')\n",
    "\n",
    "science = science.iloc[::2]    #Dropping duplicate rows\n",
    "\n",
    "\n",
    "science['Publish Date'] = science['Publish Date'].map(lambda x: x.lstrip('Updated: '.rstrip('')))\n",
    "\n",
    "science['Publish Date'] = pd.to_datetime(science['Publish Date']).dt.strftime(\"%Y-%m-%d\")\n",
    "science"
   ],
   "execution_count":35,
   "outputs":[
    {
     "name":"stdout",
     "text":[
      "<class 'pandas.core.frame.DataFrame'>\n",
      "RangeIndex: 50 entries, 0 to 49\n",
      "Data columns (total 4 columns):\n",
      " #   Column        Non-Null Count  Dtype \n",
      "---  ------        --------------  ----- \n",
      " 0   URL           50 non-null     object\n",
      " 1   Title         50 non-null     object\n",
      " 2   Content       50 non-null     object\n",
      " 3   Publish Date  50 non-null     object\n",
      "dtypes: object(4)\n",
      "memory usage: 1.7+ KB\n"
     ],
     "output_type":"stream"
    },
    {
     "data":{
      "text\/html":[
       "<div>\n",
       "<style scoped>\n",
       "    .dataframe tbody tr th:only-of-type {\n",
       "        vertical-align: middle;\n",
       "    }\n",
       "\n",
       "    .dataframe tbody tr th {\n",
       "        vertical-align: top;\n",
       "    }\n",
       "\n",
       "    .dataframe thead th {\n",
       "        text-align: right;\n",
       "    }\n",
       "<\/style>\n",
       "<table border=\"1\" class=\"dataframe\">\n",
       "  <thead>\n",
       "    <tr style=\"text-align: right;\">\n",
       "      <th><\/th>\n",
       "      <th>URL<\/th>\n",
       "      <th>Title<\/th>\n",
       "      <th>Content<\/th>\n",
       "      <th>Publish Date<\/th>\n",
       "    <\/tr>\n",
       "  <\/thead>\n",
       "  <tbody>\n",
       "    <tr>\n",
       "      <th>0<\/th>\n",
       "      <td>https:\/\/indianexpress.com\/article\/technology\/s...<\/td>\n",
       "      <td>NASA will send more helicopters to Mars<\/td>\n",
       "      <td>The trip back to Earth would take a few more y...<\/td>\n",
       "      <td>2022-08-01<\/td>\n",
       "    <\/tr>\n",
       "    <tr>\n",
       "      <th>2<\/th>\n",
       "      <td>https:\/\/indianexpress.com\/article\/technology\/s...<\/td>\n",
       "      <td>AI predicts the shape of nearly every protein ...<\/td>\n",
       "      <td>DeepMind has released predictions for nearly e...<\/td>\n",
       "      <td>2022-07-31<\/td>\n",
       "    <\/tr>\n",
       "    <tr>\n",
       "      <th>4<\/th>\n",
       "      <td>https:\/\/indianexpress.com\/article\/technology\/s...<\/td>\n",
       "      <td>Chinese Space rocket debris crashes back to Ea...<\/td>\n",
       "      <td>The US Space Command said that the Long March ...<\/td>\n",
       "      <td>2022-07-31<\/td>\n",
       "    <\/tr>\n",
       "    <tr>\n",
       "      <th>6<\/th>\n",
       "      <td>https:\/\/indianexpress.com\/article\/technology\/s...<\/td>\n",
       "      <td>Science news weekly recap: Chinese rocket debr...<\/td>\n",
       "      <td>From Chinese rocket debris to robots in the In...<\/td>\n",
       "      <td>2022-07-31<\/td>\n",
       "    <\/tr>\n",
       "    <tr>\n",
       "      <th>8<\/th>\n",
       "      <td>https:\/\/indianexpress.com\/article\/technology\/s...<\/td>\n",
       "      <td>Digging Deep: How mangroves are affected by cl...<\/td>\n",
       "      <td>Mangroves are tropical forest ecosystems that ...<\/td>\n",
       "      <td>2022-07-29<\/td>\n",
       "    <\/tr>\n",
       "    <tr>\n",
       "      <th>10<\/th>\n",
       "      <td>https:\/\/indianexpress.com\/article\/technology\/s...<\/td>\n",
       "      <td>There are holes on the ocean floor, scientists...<\/td>\n",
       "      <td>The question the scientists are posing, to the...<\/td>\n",
       "      <td>2022-07-29<\/td>\n",
       "    <\/tr>\n",
       "    <tr>\n",
       "      <th>12<\/th>\n",
       "      <td>https:\/\/indianexpress.com\/article\/technology\/s...<\/td>\n",
       "      <td>Hidden Menace: Massive methane leaks speed up ...<\/td>\n",
       "      <td>Massive amounts of methane is venting into the...<\/td>\n",
       "      <td>2022-07-28<\/td>\n",
       "    <\/tr>\n",
       "    <tr>\n",
       "      <th>14<\/th>\n",
       "      <td>https:\/\/indianexpress.com\/article\/technology\/s...<\/td>\n",
       "      <td>China closely tracking debris of its most powe...<\/td>\n",
       "      <td>Debris from a large, newly launched Chinese ro...<\/td>\n",
       "      <td>2022-07-28<\/td>\n",
       "    <\/tr>\n",
       "    <tr>\n",
       "      <th>16<\/th>\n",
       "      <td>https:\/\/indianexpress.com\/article\/technology\/s...<\/td>\n",
       "      <td>NASA robots work together for the first time o...<\/td>\n",
       "      <td>For the first time ever, two Astrobee robots h...<\/td>\n",
       "      <td>2022-07-28<\/td>\n",
       "    <\/tr>\n",
       "    <tr>\n",
       "      <th>18<\/th>\n",
       "      <td>https:\/\/indianexpress.com\/article\/technology\/s...<\/td>\n",
       "      <td>Astronaut Buzz Aldrin’s Apollo 11 flight jacke...<\/td>\n",
       "      <td>The jacket front displays NASA's logo and the ...<\/td>\n",
       "      <td>2022-07-27<\/td>\n",
       "    <\/tr>\n",
       "    <tr>\n",
       "      <th>20<\/th>\n",
       "      <td>https:\/\/indianexpress.com\/article\/technology\/s...<\/td>\n",
       "      <td>Research finds bacteria can remove plastic pol...<\/td>\n",
       "      <td>Some naturally-occurring freshwater bacteria g...<\/td>\n",
       "      <td>2022-07-27<\/td>\n",
       "    <\/tr>\n",
       "    <tr>\n",
       "      <th>22<\/th>\n",
       "      <td>https:\/\/indianexpress.com\/article\/technology\/s...<\/td>\n",
       "      <td>Researchers recycle CDs by turning them into i...<\/td>\n",
       "      <td>The researchers found an inexpensive method to...<\/td>\n",
       "      <td>2022-07-27<\/td>\n",
       "    <\/tr>\n",
       "    <tr>\n",
       "      <th>24<\/th>\n",
       "      <td>https:\/\/indianexpress.com\/article\/technology\/s...<\/td>\n",
       "      <td>Scientists defend T. rex as only species of mi...<\/td>\n",
       "      <td>T. rex has been the single species of the genu...<\/td>\n",
       "      <td>2022-07-27<\/td>\n",
       "    <\/tr>\n",
       "    <tr>\n",
       "      <th>26<\/th>\n",
       "      <td>https:\/\/indianexpress.com\/article\/technology\/s...<\/td>\n",
       "      <td>UAE’s Sultan Al Neyadi to be the first Arab as...<\/td>\n",
       "      <td>UAE astronaut Sultan Al Neyadi has been select...<\/td>\n",
       "      <td>2022-07-26<\/td>\n",
       "    <\/tr>\n",
       "    <tr>\n",
       "      <th>28<\/th>\n",
       "      <td>https:\/\/indianexpress.com\/article\/technology\/s...<\/td>\n",
       "      <td>Ancient rocks hold clues to how Earth can sust...<\/td>\n",
       "      <td>Unlike Mars, Earth has a strong magnetic field...<\/td>\n",
       "      <td>2022-07-26<\/td>\n",
       "    <\/tr>\n",
       "    <tr>\n",
       "      <th>30<\/th>\n",
       "      <td>https:\/\/indianexpress.com\/article\/technology\/s...<\/td>\n",
       "      <td>ESA’s Mars Express captures image of ‘Martian ...<\/td>\n",
       "      <td>The Valles Marineris is almost ten times longe...<\/td>\n",
       "      <td>2022-07-26<\/td>\n",
       "    <\/tr>\n",
       "    <tr>\n",
       "      <th>32<\/th>\n",
       "      <td>https:\/\/indianexpress.com\/article\/technology\/s...<\/td>\n",
       "      <td>Shakin’ bacon? Belgian researchers study pigs’...<\/td>\n",
       "      <td>Scientists in Belgium are investigating a farm...<\/td>\n",
       "      <td>2022-07-26<\/td>\n",
       "    <\/tr>\n",
       "    <tr>\n",
       "      <th>34<\/th>\n",
       "      <td>https:\/\/indianexpress.com\/article\/technology\/s...<\/td>\n",
       "      <td>Nasa on building a nuclear reactor in space an...<\/td>\n",
       "      <td>Here is how NASA plans to build a nuclear fiss...<\/td>\n",
       "      <td>2022-07-26<\/td>\n",
       "    <\/tr>\n",
       "    <tr>\n",
       "      <th>36<\/th>\n",
       "      <td>https:\/\/indianexpress.com\/article\/technology\/s...<\/td>\n",
       "      <td>Space news weekly recap: China space station m...<\/td>\n",
       "      <td>From China's launch of the second module of th...<\/td>\n",
       "      <td>2022-07-25<\/td>\n",
       "    <\/tr>\n",
       "    <tr>\n",
       "      <th>38<\/th>\n",
       "      <td>https:\/\/indianexpress.com\/article\/technology\/s...<\/td>\n",
       "      <td>China launches second space station module, We...<\/td>\n",
       "      <td>The 23-tonne Wentian (\"Quest for the Heavens\")...<\/td>\n",
       "      <td>2022-07-24<\/td>\n",
       "    <\/tr>\n",
       "    <tr>\n",
       "      <th>40<\/th>\n",
       "      <td>https:\/\/indianexpress.com\/article\/technology\/s...<\/td>\n",
       "      <td>Massive, unusually compact, ‘one of a kind’ tr...<\/td>\n",
       "      <td>The TIC 470710327 system consists of a pair of...<\/td>\n",
       "      <td>2022-07-25<\/td>\n",
       "    <\/tr>\n",
       "    <tr>\n",
       "      <th>42<\/th>\n",
       "      <td>https:\/\/indianexpress.com\/article\/technology\/s...<\/td>\n",
       "      <td>SpaceX whizzes past annual launch record with ...<\/td>\n",
       "      <td>Elon Musk's SpaceX broke its record for the nu...<\/td>\n",
       "      <td>2022-07-25<\/td>\n",
       "    <\/tr>\n",
       "    <tr>\n",
       "      <th>44<\/th>\n",
       "      <td>https:\/\/indianexpress.com\/article\/technology\/s...<\/td>\n",
       "      <td>Heads up, again: China set to launch space sta...<\/td>\n",
       "      <td>It will be a replay of two earlier launches of...<\/td>\n",
       "      <td>2022-07-24<\/td>\n",
       "    <\/tr>\n",
       "    <tr>\n",
       "      <th>46<\/th>\n",
       "      <td>https:\/\/indianexpress.com\/article\/technology\/s...<\/td>\n",
       "      <td>Digging Deep: The deserts of the world are spr...<\/td>\n",
       "      <td>The study showed that over the course of the l...<\/td>\n",
       "      <td>2022-07-22<\/td>\n",
       "    <\/tr>\n",
       "    <tr>\n",
       "      <th>48<\/th>\n",
       "      <td>https:\/\/indianexpress.com\/article\/technology\/s...<\/td>\n",
       "      <td>Watch: NASA shares video showing how Apollo 11...<\/td>\n",
       "      <td>Nearly 50 years after Apollo 11's Moon landing...<\/td>\n",
       "      <td>2022-07-24<\/td>\n",
       "    <\/tr>\n",
       "  <\/tbody>\n",
       "<\/table>\n",
       "<\/div>"
      ]
     },
     "metadata":{
      
     },
     "output_type":"display_data"
    }
   ],
   "metadata":{
    "datalore":{
     "type":"CODE",
     "hide_input_from_viewers":false,
     "hide_output_from_viewers":false,
     "node_id":"XMrp7AOR7lPoddcCJukvvj"
    }
   }
  },
  {
   "cell_type":"code",
   "source":[
    "from datetime import date\n",
    "today = date.today().strftime(\"%Y-%m-%d\")\n",
    "today\n",
    "\n",
    "try:\n",
    "    science = science.loc[science['Publish Date']==today]\n",
    "except:\n",
    "    science=[]\n",
    "    print(\"No Science Columns today\")"
   ],
   "execution_count":36,
   "outputs":[
    
   ],
   "metadata":{
    "datalore":{
     "type":"CODE",
     "hide_input_from_viewers":false,
     "hide_output_from_viewers":false,
     "node_id":"WN7KLgIIIxvD4LaFHFUdY6"
    }
   }
  },
  {
   "cell_type":"code",
   "source":[
    "science"
   ],
   "execution_count":37,
   "outputs":[
    {
     "data":{
      "text\/html":[
       "<div>\n",
       "<style scoped>\n",
       "    .dataframe tbody tr th:only-of-type {\n",
       "        vertical-align: middle;\n",
       "    }\n",
       "\n",
       "    .dataframe tbody tr th {\n",
       "        vertical-align: top;\n",
       "    }\n",
       "\n",
       "    .dataframe thead th {\n",
       "        text-align: right;\n",
       "    }\n",
       "<\/style>\n",
       "<table border=\"1\" class=\"dataframe\">\n",
       "  <thead>\n",
       "    <tr style=\"text-align: right;\">\n",
       "      <th><\/th>\n",
       "      <th>URL<\/th>\n",
       "      <th>Title<\/th>\n",
       "      <th>Content<\/th>\n",
       "      <th>Publish Date<\/th>\n",
       "    <\/tr>\n",
       "  <\/thead>\n",
       "  <tbody>\n",
       "    <tr>\n",
       "      <th>0<\/th>\n",
       "      <td>https:\/\/indianexpress.com\/article\/technology\/s...<\/td>\n",
       "      <td>NASA will send more helicopters to Mars<\/td>\n",
       "      <td>The trip back to Earth would take a few more y...<\/td>\n",
       "      <td>2022-08-01<\/td>\n",
       "    <\/tr>\n",
       "  <\/tbody>\n",
       "<\/table>\n",
       "<\/div>"
      ]
     },
     "metadata":{
      
     },
     "output_type":"display_data"
    }
   ],
   "metadata":{
    "datalore":{
     "type":"CODE",
     "hide_input_from_viewers":false,
     "hide_output_from_viewers":false,
     "node_id":"S3JOPgkbVW8tON1LasLcTj"
    }
   }
  },
  {
   "cell_type":"markdown",
   "source":[
    "# Business section: Economy + Banking and Finance"
   ],
   "attachments":{
    
   },
   "metadata":{
    "datalore":{
     "type":"MD",
     "hide_input_from_viewers":false,
     "hide_output_from_viewers":false,
     "node_id":"xWJiFBgPobdi37DRiXLIuT"
    }
   }
  },
  {
   "cell_type":"code",
   "source":[
    "biz_list=[]\n",
    "def biz(x):\n",
    "    url = ((\"https:\/\/indianexpress.com\/section\/business\/\") + (x))\n",
    "    print(url)\n",
    "    business_cont = requests.get(url)\n",
    "    soup = bs(business_cont.content, 'html.parser')\n",
    "\n",
    "    soup.prettify\n",
    "\n",
    "    business_list=[]\n",
    "    business_list = soup.find('div', {'class':'nation'})\n",
    "\n",
    "    links =[]\n",
    "\n",
    "    for link in business_list.find_all('a', href=True):\n",
    "        \n",
    "        business_page = {}\n",
    "        business_url = link.get('href')\n",
    "    \n",
    "        try:\n",
    "            # URL\n",
    "\n",
    "            business_page['URL'] = business_url\n",
    "\n",
    "            # Invoke URL\n",
    "\n",
    "            page = requests.get(business_url)\n",
    "            page_soup = bs(page.content, 'html.parser')\n",
    "\n",
    "            # Title\n",
    "\n",
    "            page_soup_title = page_soup.find('h1', {'class':'native_story_title'})\n",
    "            business_page['Title']= page_soup_title.text\n",
    "\n",
    "            # Content\n",
    "\n",
    "            page_content = ''\n",
    "            page_soup_div = page_soup.find_all('h2',{\"class\":\"synopsis\"})\n",
    "            for p_content in page_soup_div:\n",
    "                page_content = page_content + p_content.text\n",
    "\n",
    "            # Content\n",
    "\n",
    "            business_page['Content'] = page_content \n",
    "\n",
    "            # Date Time\n",
    "\n",
    "            dates=[]\n",
    "            dates = page_soup.find('div',{'id':'storycenterbyline'})\n",
    "            for date in dates.select_one('span'):\n",
    "                business_page['Publish Date'] = date.text\n",
    "\n",
    "            links.append(link.get('href'))\n",
    "            biz_list.append(business_page)\n",
    "\n",
    "\n",
    "        except Exception as e:\n",
    "            print(e, business_url)\n",
    "            \n",
    "    print (\"Extracted\", len(biz_list), \"pages in \" + (x))\n",
    "    print ('Done with extracting all business articles in ' + (x))"
   ],
   "execution_count":38,
   "outputs":[
    
   ],
   "metadata":{
    "datalore":{
     "type":"CODE",
     "hide_input_from_viewers":false,
     "hide_output_from_viewers":false,
     "node_id":"rSchoY6ZfgHsEbrvE0YyjG"
    }
   }
  },
  {
   "cell_type":"code",
   "source":[
    "biz_list=[]\n",
    "biz('economy')"
   ],
   "execution_count":39,
   "outputs":[
    {
     "name":"stdout",
     "text":[
      "https:\/\/indianexpress.com\/section\/business\/economy\n",
      "'NoneType' object has no attribute 'text' https:\/\/indianexpress.com\/section\/business\/economy\/page\/2\/\n",
      "'NoneType' object has no attribute 'text' https:\/\/indianexpress.com\/section\/business\/economy\/page\/3\/\n",
      "'NoneType' object has no attribute 'text' https:\/\/indianexpress.com\/section\/business\/economy\/page\/307\/\n",
      "'NoneType' object has no attribute 'text' https:\/\/indianexpress.com\/section\/business\/economy\/page\/2\/\n",
      "Extracted 50 pages in economy\n",
      "Done with extracting all business articles in economy\n"
     ],
     "output_type":"stream"
    }
   ],
   "metadata":{
    "datalore":{
     "type":"CODE",
     "hide_input_from_viewers":false,
     "hide_output_from_viewers":false,
     "node_id":"eGPejBJc4cE7oaTrIRBm3L"
    }
   }
  },
  {
   "cell_type":"code",
   "source":[
    "biz_list = pd.DataFrame.from_dict(biz_list)\n",
    "biz_list\n",
    "\n",
    "biz_list.info()\n",
    "\n",
    "biz_list['URL']= biz_list['URL'].astype('string')\n",
    "biz_list['Title']= biz_list['Title'].astype('string')\n",
    "sec_exp_list['Content']= biz_list['Content'].astype('string')\n",
    "biz_list['Publish Date']= biz_list['Publish Date'].astype('string')\n",
    "\n",
    "\n",
    "biz_list = biz_list.iloc[::2]    #Dropping duplicate rows\n",
    "\n",
    "biz_list['Publish Date'] = biz_list['Publish Date'].map(lambda x: x.lstrip('Updated: '.rstrip('')))\n",
    "\n",
    "biz_list['Publish Date'] = pd.to_datetime(biz_list['Publish Date']).dt.strftime(\"%Y-%m-%d\")\n",
    "\n",
    "try:\n",
    "    economy = biz_list.loc[biz_list['Publish Date']==today]\n",
    "except:\n",
    "    economy=[]\n",
    "    print(\"No Business:Economy today\")\n",
    "    \n",
    "economy"
   ],
   "execution_count":40,
   "outputs":[
    {
     "name":"stdout",
     "text":[
      "<class 'pandas.core.frame.DataFrame'>\n",
      "RangeIndex: 50 entries, 0 to 49\n",
      "Data columns (total 4 columns):\n",
      " #   Column        Non-Null Count  Dtype \n",
      "---  ------        --------------  ----- \n",
      " 0   URL           50 non-null     object\n",
      " 1   Title         50 non-null     object\n",
      " 2   Content       50 non-null     object\n",
      " 3   Publish Date  50 non-null     object\n",
      "dtypes: object(4)\n",
      "memory usage: 1.7+ KB\n"
     ],
     "output_type":"stream"
    },
    {
     "data":{
      "text\/html":[
       "<div>\n",
       "<style scoped>\n",
       "    .dataframe tbody tr th:only-of-type {\n",
       "        vertical-align: middle;\n",
       "    }\n",
       "\n",
       "    .dataframe tbody tr th {\n",
       "        vertical-align: top;\n",
       "    }\n",
       "\n",
       "    .dataframe thead th {\n",
       "        text-align: right;\n",
       "    }\n",
       "<\/style>\n",
       "<table border=\"1\" class=\"dataframe\">\n",
       "  <thead>\n",
       "    <tr style=\"text-align: right;\">\n",
       "      <th><\/th>\n",
       "      <th>URL<\/th>\n",
       "      <th>Title<\/th>\n",
       "      <th>Content<\/th>\n",
       "      <th>Publish Date<\/th>\n",
       "    <\/tr>\n",
       "  <\/thead>\n",
       "  <tbody>\n",
       "    <tr>\n",
       "      <th>0<\/th>\n",
       "      <td>https:\/\/indianexpress.com\/article\/business\/eco...<\/td>\n",
       "      <td>GST collection rises 28% to Rs 1.49 lakh crore...<\/td>\n",
       "      <td>This is the sixth time that the monthly GST co...<\/td>\n",
       "      <td>2022-08-01<\/td>\n",
       "    <\/tr>\n",
       "    <tr>\n",
       "      <th>2<\/th>\n",
       "      <td>https:\/\/indianexpress.com\/article\/business\/eco...<\/td>\n",
       "      <td>RBI likely to raise key policy rate by at leas...<\/td>\n",
       "      <td>The Reserve Bank of India's rate-setting panel...<\/td>\n",
       "      <td>2022-08-01<\/td>\n",
       "    <\/tr>\n",
       "    <tr>\n",
       "      <th>4<\/th>\n",
       "      <td>https:\/\/indianexpress.com\/article\/business\/eco...<\/td>\n",
       "      <td>India’s manufacturing activity touches 8-month...<\/td>\n",
       "      <td>The seasonally adjusted S&amp;P Global India Manuf...<\/td>\n",
       "      <td>2022-08-01<\/td>\n",
       "    <\/tr>\n",
       "    <tr>\n",
       "      <th>6<\/th>\n",
       "      <td>https:\/\/indianexpress.com\/article\/business\/eco...<\/td>\n",
       "      <td>States, Centre to meet on labour: Modalities o...<\/td>\n",
       "      <td>Implementing the labour codes not later than 2...<\/td>\n",
       "      <td>2022-08-01<\/td>\n",
       "    <\/tr>\n",
       "    <tr>\n",
       "      <th>8<\/th>\n",
       "      <td>https:\/\/indianexpress.com\/article\/business\/eco...<\/td>\n",
       "      <td>Raghuram Rajan lauds RBI, says India not facin...<\/td>\n",
       "      <td>The former RBI governor, Raghuram Rajan, said ...<\/td>\n",
       "      <td>2022-08-01<\/td>\n",
       "    <\/tr>\n",
       "  <\/tbody>\n",
       "<\/table>\n",
       "<\/div>"
      ]
     },
     "metadata":{
      
     },
     "output_type":"display_data"
    }
   ],
   "metadata":{
    "datalore":{
     "type":"CODE",
     "hide_input_from_viewers":false,
     "hide_output_from_viewers":false,
     "node_id":"LzVrPip4QCuB2FukYvYsfp"
    }
   }
  },
  {
   "cell_type":"code",
   "source":[
    "biz_list=[]\n",
    "biz('banking-and-finance')"
   ],
   "execution_count":41,
   "outputs":[
    {
     "name":"stdout",
     "text":[
      "https:\/\/indianexpress.com\/section\/business\/banking-and-finance\n",
      "'NoneType' object has no attribute 'text' https:\/\/indianexpress.com\/section\/business\/banking-and-finance\/page\/2\/\n",
      "'NoneType' object has no attribute 'text' https:\/\/indianexpress.com\/section\/business\/banking-and-finance\/page\/3\/\n",
      "'NoneType' object has no attribute 'text' https:\/\/indianexpress.com\/section\/business\/banking-and-finance\/page\/183\/\n",
      "'NoneType' object has no attribute 'text' https:\/\/indianexpress.com\/section\/business\/banking-and-finance\/page\/2\/\n",
      "Extracted 50 pages in banking-and-finance\n",
      "Done with extracting all business articles in banking-and-finance\n"
     ],
     "output_type":"stream"
    }
   ],
   "metadata":{
    "datalore":{
     "type":"CODE",
     "hide_input_from_viewers":false,
     "hide_output_from_viewers":false,
     "node_id":"X3O18hPkb1ik7lULLEkWG0"
    }
   }
  },
  {
   "cell_type":"code",
   "source":[
    "biz_list = pd.DataFrame.from_dict(biz_list)\n",
    "biz_list\n",
    "\n",
    "biz_list.info()\n",
    "\n",
    "biz_list['URL']= biz_list['URL'].astype('string')\n",
    "biz_list['Title']= biz_list['Title'].astype('string')\n",
    "sec_exp_list['Content']= biz_list['Content'].astype('string')\n",
    "biz_list['Publish Date']= biz_list['Publish Date'].astype('string')\n",
    "\n",
    "\n",
    "biz_list = biz_list.iloc[::2]    #Dropping duplicate rows\n",
    "\n",
    "biz_list['Publish Date'] = biz_list['Publish Date'].map(lambda x: x.lstrip('Updated: '.rstrip('')))\n",
    "\n",
    "biz_list['Publish Date'] = pd.to_datetime(biz_list['Publish Date']).dt.strftime(\"%Y-%m-%d\")\n",
    "\n",
    "try:\n",
    "    bfsi = biz_list.loc[biz_list['Publish Date']==today]\n",
    "except:\n",
    "    bfsi=[]\n",
    "    print(\"No Business:BFSI today\")\n",
    "    \n",
    "bfsi"
   ],
   "execution_count":42,
   "outputs":[
    {
     "name":"stdout",
     "text":[
      "<class 'pandas.core.frame.DataFrame'>\n",
      "RangeIndex: 50 entries, 0 to 49\n",
      "Data columns (total 4 columns):\n",
      " #   Column        Non-Null Count  Dtype \n",
      "---  ------        --------------  ----- \n",
      " 0   URL           50 non-null     object\n",
      " 1   Title         50 non-null     object\n",
      " 2   Content       50 non-null     object\n",
      " 3   Publish Date  50 non-null     object\n",
      "dtypes: object(4)\n",
      "memory usage: 1.7+ KB\n"
     ],
     "output_type":"stream"
    },
    {
     "data":{
      "text\/html":[
       "<div>\n",
       "<style scoped>\n",
       "    .dataframe tbody tr th:only-of-type {\n",
       "        vertical-align: middle;\n",
       "    }\n",
       "\n",
       "    .dataframe tbody tr th {\n",
       "        vertical-align: top;\n",
       "    }\n",
       "\n",
       "    .dataframe thead th {\n",
       "        text-align: right;\n",
       "    }\n",
       "<\/style>\n",
       "<table border=\"1\" class=\"dataframe\">\n",
       "  <thead>\n",
       "    <tr style=\"text-align: right;\">\n",
       "      <th><\/th>\n",
       "      <th>URL<\/th>\n",
       "      <th>Title<\/th>\n",
       "      <th>Content<\/th>\n",
       "      <th>Publish Date<\/th>\n",
       "    <\/tr>\n",
       "  <\/thead>\n",
       "  <tbody>\n",
       "    <tr>\n",
       "      <th>0<\/th>\n",
       "      <td>https:\/\/indianexpress.com\/article\/business\/ban...<\/td>\n",
       "      <td>Electoral bonds: Parties mop up over Rs 10,000...<\/td>\n",
       "      <td>Electoral bonds are purchased anonymously by d...<\/td>\n",
       "      <td>2022-08-01<\/td>\n",
       "    <\/tr>\n",
       "  <\/tbody>\n",
       "<\/table>\n",
       "<\/div>"
      ]
     },
     "metadata":{
      
     },
     "output_type":"display_data"
    }
   ],
   "metadata":{
    "datalore":{
     "type":"CODE",
     "hide_input_from_viewers":false,
     "hide_output_from_viewers":false,
     "node_id":"I0OBQmhFzOFZn1I6ikmN2N"
    }
   }
  },
  {
   "cell_type":"code",
   "source":[
    "read_list = [upsc_current_affairs,op_columns,explained,science,economy,bfsi]"
   ],
   "execution_count":43,
   "outputs":[
    
   ],
   "metadata":{
    "datalore":{
     "type":"CODE",
     "hide_input_from_viewers":false,
     "hide_output_from_viewers":false,
     "node_id":"mx27Rgv2958AhOnKHtKKTu"
    }
   }
  },
  {
   "cell_type":"code",
   "source":[
    "bfsi.info()"
   ],
   "execution_count":44,
   "outputs":[
    {
     "name":"stdout",
     "text":[
      "<class 'pandas.core.frame.DataFrame'>\n",
      "Int64Index: 1 entries, 0 to 0\n",
      "Data columns (total 4 columns):\n",
      " #   Column        Non-Null Count  Dtype \n",
      "---  ------        --------------  ----- \n",
      " 0   URL           1 non-null      string\n",
      " 1   Title         1 non-null      string\n",
      " 2   Content       1 non-null      object\n",
      " 3   Publish Date  1 non-null      object\n",
      "dtypes: object(2), string(2)\n",
      "memory usage: 40.0+ bytes\n"
     ],
     "output_type":"stream"
    }
   ],
   "metadata":{
    "datalore":{
     "type":"CODE",
     "hide_input_from_viewers":false,
     "hide_output_from_viewers":false,
     "node_id":"2jfJm6TEfIwO3sjYoHFbi1"
    }
   }
  },
  {
   "cell_type":"code",
   "source":[
    "read = pd.concat(read_list)\n",
    "read.reset_index(inplace = True, drop = True)"
   ],
   "execution_count":45,
   "outputs":[
    
   ],
   "metadata":{
    "datalore":{
     "type":"CODE",
     "hide_input_from_viewers":false,
     "hide_output_from_viewers":false,
     "node_id":"ZHRZE8p6cQmPsmleED01Qn"
    }
   }
  },
  {
   "cell_type":"code",
   "source":[
    "read = read[['Publish Date','Title','Content','URL']]\n",
    "read"
   ],
   "execution_count":46,
   "outputs":[
    {
     "data":{
      "text\/html":[
       "<div>\n",
       "<style scoped>\n",
       "    .dataframe tbody tr th:only-of-type {\n",
       "        vertical-align: middle;\n",
       "    }\n",
       "\n",
       "    .dataframe tbody tr th {\n",
       "        vertical-align: top;\n",
       "    }\n",
       "\n",
       "    .dataframe thead th {\n",
       "        text-align: right;\n",
       "    }\n",
       "<\/style>\n",
       "<table border=\"1\" class=\"dataframe\">\n",
       "  <thead>\n",
       "    <tr style=\"text-align: right;\">\n",
       "      <th><\/th>\n",
       "      <th>Publish Date<\/th>\n",
       "      <th>Title<\/th>\n",
       "      <th>Content<\/th>\n",
       "      <th>URL<\/th>\n",
       "    <\/tr>\n",
       "  <\/thead>\n",
       "  <tbody>\n",
       "    <tr>\n",
       "      <th>0<\/th>\n",
       "      <td>2022-08-01<\/td>\n",
       "      <td>India’s response to Sri Lanka and Myanmar cris...<\/td>\n",
       "      <td>Given our land and sea borders with Myanmar, a...<\/td>\n",
       "      <td>https:\/\/indianexpress.com\/article\/opinion\/colu...<\/td>\n",
       "    <\/tr>\n",
       "    <tr>\n",
       "      <th>1<\/th>\n",
       "      <td>2022-08-01<\/td>\n",
       "      <td>The powerful and ubiquitous ED<\/td>\n",
       "      <td>ED's prominence points to a shift: Central age...<\/td>\n",
       "      <td>https:\/\/indianexpress.com\/article\/opinion\/colu...<\/td>\n",
       "    <\/tr>\n",
       "    <tr>\n",
       "      <th>2<\/th>\n",
       "      <td>2022-08-01<\/td>\n",
       "      <td>Pakistan@75: Navigating the way forward<\/td>\n",
       "      <td>Pakistan needs a fresh start. Ending the stale...<\/td>\n",
       "      <td>https:\/\/indianexpress.com\/article\/opinion\/colu...<\/td>\n",
       "    <\/tr>\n",
       "    <tr>\n",
       "      <th>3<\/th>\n",
       "      <td>2022-08-01<\/td>\n",
       "      <td>August 1, 1982, Forty Years Ago: Bill To Curb ...<\/td>\n",
       "      <td>History was made in the Bihar Assembly when, h...<\/td>\n",
       "      <td>https:\/\/indianexpress.com\/article\/opinion\/40-y...<\/td>\n",
       "    <\/tr>\n",
       "    <tr>\n",
       "      <th>4<\/th>\n",
       "      <td>2022-08-01<\/td>\n",
       "      <td>On food inflation, the humble tomato has chall...<\/td>\n",
       "      <td>Ashok Gulati and Manish Kumar Prasad write: Mo...<\/td>\n",
       "      <td>https:\/\/indianexpress.com\/article\/opinion\/colu...<\/td>\n",
       "    <\/tr>\n",
       "    <tr>\n",
       "      <th>5<\/th>\n",
       "      <td>2022-08-01<\/td>\n",
       "      <td>Jharkhand’s cash scandal coupled with the shad...<\/td>\n",
       "      <td>Clearly, coalition politics, especially in the...<\/td>\n",
       "      <td>https:\/\/indianexpress.com\/article\/opinion\/edit...<\/td>\n",
       "    <\/tr>\n",
       "    <tr>\n",
       "      <th>6<\/th>\n",
       "      <td>2022-08-01<\/td>\n",
       "      <td>Naysayers are wrong, India does have success s...<\/td>\n",
       "      <td>Vikram S Mehta writes: Too many people believe...<\/td>\n",
       "      <td>https:\/\/indianexpress.com\/article\/opinion\/colu...<\/td>\n",
       "    <\/tr>\n",
       "    <tr>\n",
       "      <th>7<\/th>\n",
       "      <td>2022-08-01<\/td>\n",
       "      <td>Financial health of airline sector is the real...<\/td>\n",
       "      <td>With multiple low-cost airline operators const...<\/td>\n",
       "      <td>https:\/\/indianexpress.com\/article\/opinion\/colu...<\/td>\n",
       "    <\/tr>\n",
       "    <tr>\n",
       "      <th>8<\/th>\n",
       "      <td>2022-08-01<\/td>\n",
       "      <td>Friend-shoring: The medium-term response for i...<\/td>\n",
       "      <td>Monali Chowdhurie Aziz: Friend-shoring, as the...<\/td>\n",
       "      <td>https:\/\/indianexpress.com\/article\/opinion\/colu...<\/td>\n",
       "    <\/tr>\n",
       "    <tr>\n",
       "      <th>9<\/th>\n",
       "      <td>2022-08-01<\/td>\n",
       "      <td>US-China tensions may turn for the worse if bo...<\/td>\n",
       "      <td>Biden and Xi have apparently agreed to explore...<\/td>\n",
       "      <td>https:\/\/indianexpress.com\/article\/opinion\/edit...<\/td>\n",
       "    <\/tr>\n",
       "    <tr>\n",
       "      <th>10<\/th>\n",
       "      <td>2022-08-01<\/td>\n",
       "      <td>In the failure of ‘Shamshera’, a warning and l...<\/td>\n",
       "      <td>It is getting tougher to compete with good con...<\/td>\n",
       "      <td>https:\/\/indianexpress.com\/article\/opinion\/colu...<\/td>\n",
       "    <\/tr>\n",
       "    <tr>\n",
       "      <th>11<\/th>\n",
       "      <td>2022-08-01<\/td>\n",
       "      <td>Why Olena Zelenska’s Vogue photoshoot makes us...<\/td>\n",
       "      <td>Benita Fernando writes: The problem isn’t that...<\/td>\n",
       "      <td>https:\/\/indianexpress.com\/article\/opinion\/colu...<\/td>\n",
       "    <\/tr>\n",
       "    <tr>\n",
       "      <th>12<\/th>\n",
       "      <td>2022-08-01<\/td>\n",
       "      <td>Explained: 3 reasons why GST collections conti...<\/td>\n",
       "      <td>Experts say that action against tax evaders, i...<\/td>\n",
       "      <td>https:\/\/indianexpress.com\/article\/explained\/ex...<\/td>\n",
       "    <\/tr>\n",
       "    <tr>\n",
       "      <th>13<\/th>\n",
       "      <td>2022-08-01<\/td>\n",
       "      <td>ExplainSpeaking | Global bright spot or the on...<\/td>\n",
       "      <td>Employment data both from MGNREGA and the annu...<\/td>\n",
       "      <td>https:\/\/indianexpress.com\/article\/explained\/ex...<\/td>\n",
       "    <\/tr>\n",
       "    <tr>\n",
       "      <th>14<\/th>\n",
       "      <td>2022-08-01<\/td>\n",
       "      <td>Explained: A man who had monkeypox has died in...<\/td>\n",
       "      <td>It is not yet known what comorbidities this pa...<\/td>\n",
       "      <td>https:\/\/indianexpress.com\/article\/explained\/ex...<\/td>\n",
       "    <\/tr>\n",
       "    <tr>\n",
       "      <th>15<\/th>\n",
       "      <td>2022-07-31<\/td>\n",
       "      <td>Explained: What’s driving the power struggle i...<\/td>\n",
       "      <td>The tussle over who gets to form the next gove...<\/td>\n",
       "      <td>https:\/\/indianexpress.com\/article\/explained\/ex...<\/td>\n",
       "    <\/tr>\n",
       "    <tr>\n",
       "      <th>16<\/th>\n",
       "      <td>2022-08-01<\/td>\n",
       "      <td>NASA will send more helicopters to Mars<\/td>\n",
       "      <td>The trip back to Earth would take a few more y...<\/td>\n",
       "      <td>https:\/\/indianexpress.com\/article\/technology\/s...<\/td>\n",
       "    <\/tr>\n",
       "    <tr>\n",
       "      <th>17<\/th>\n",
       "      <td>2022-08-01<\/td>\n",
       "      <td>GST collection rises 28% to Rs 1.49 lakh crore...<\/td>\n",
       "      <td>This is the sixth time that the monthly GST co...<\/td>\n",
       "      <td>https:\/\/indianexpress.com\/article\/business\/eco...<\/td>\n",
       "    <\/tr>\n",
       "    <tr>\n",
       "      <th>18<\/th>\n",
       "      <td>2022-08-01<\/td>\n",
       "      <td>RBI likely to raise key policy rate by at leas...<\/td>\n",
       "      <td>The Reserve Bank of India's rate-setting panel...<\/td>\n",
       "      <td>https:\/\/indianexpress.com\/article\/business\/eco...<\/td>\n",
       "    <\/tr>\n",
       "    <tr>\n",
       "      <th>19<\/th>\n",
       "      <td>2022-08-01<\/td>\n",
       "      <td>India’s manufacturing activity touches 8-month...<\/td>\n",
       "      <td>The seasonally adjusted S&amp;P Global India Manuf...<\/td>\n",
       "      <td>https:\/\/indianexpress.com\/article\/business\/eco...<\/td>\n",
       "    <\/tr>\n",
       "    <tr>\n",
       "      <th>20<\/th>\n",
       "      <td>2022-08-01<\/td>\n",
       "      <td>States, Centre to meet on labour: Modalities o...<\/td>\n",
       "      <td>Implementing the labour codes not later than 2...<\/td>\n",
       "      <td>https:\/\/indianexpress.com\/article\/business\/eco...<\/td>\n",
       "    <\/tr>\n",
       "    <tr>\n",
       "      <th>21<\/th>\n",
       "      <td>2022-08-01<\/td>\n",
       "      <td>Raghuram Rajan lauds RBI, says India not facin...<\/td>\n",
       "      <td>The former RBI governor, Raghuram Rajan, said ...<\/td>\n",
       "      <td>https:\/\/indianexpress.com\/article\/business\/eco...<\/td>\n",
       "    <\/tr>\n",
       "    <tr>\n",
       "      <th>22<\/th>\n",
       "      <td>2022-08-01<\/td>\n",
       "      <td>Electoral bonds: Parties mop up over Rs 10,000...<\/td>\n",
       "      <td>Electoral bonds are purchased anonymously by d...<\/td>\n",
       "      <td>https:\/\/indianexpress.com\/article\/business\/ban...<\/td>\n",
       "    <\/tr>\n",
       "  <\/tbody>\n",
       "<\/table>\n",
       "<\/div>"
      ]
     },
     "metadata":{
      
     },
     "output_type":"display_data"
    }
   ],
   "metadata":{
    "datalore":{
     "type":"CODE",
     "hide_input_from_viewers":false,
     "hide_output_from_viewers":false,
     "node_id":"PMuw5pObdb9i6yLyQQCxeB"
    }
   }
  },
  {
   "cell_type":"code",
   "source":[
    "today = date.today()\n",
    "yesterday = today - timedelta(days = 1)\n",
    "\n",
    "yesterday = yesterday.strftime(\"%b-%d-%Y\")\n",
    "today = today.strftime(\"%b-%d-%Y\")"
   ],
   "execution_count":47,
   "outputs":[
    
   ],
   "metadata":{
    "datalore":{
     "type":"CODE",
     "hide_input_from_viewers":false,
     "hide_output_from_viewers":false,
     "node_id":"qg9CBcE4DyheJQUDadQBdr"
    }
   }
  },
  {
   "cell_type":"code",
   "source":[
    "read.to_csv(today + ' IE extracts.csv', index=False)"
   ],
   "execution_count":48,
   "outputs":[
    
   ],
   "metadata":{
    "datalore":{
     "type":"CODE",
     "hide_input_from_viewers":false,
     "hide_output_from_viewers":false,
     "node_id":"1zMrJDXz0p5XemSphMr9Ie"
    }
   }
  },
  {
   "cell_type":"code",
   "source":[
    "print(\"File created for daily IE reading\")"
   ],
   "execution_count":49,
   "outputs":[
    {
     "name":"stdout",
     "text":[
      "File created for daily IE reading\n"
     ],
     "output_type":"stream"
    }
   ],
   "metadata":{
    "datalore":{
     "type":"CODE",
     "hide_input_from_viewers":false,
     "hide_output_from_viewers":false,
     "node_id":"6bDvuhpwwf9f4HEIK3lqL7"
    }
   }
  }
 ],
 "metadata":{
  "kernelspec":{
   "display_name":"Python",
   "language":"python",
   "name":"python"
  },
  "datalore":{
   "version":1,
   "computation_mode":"JUPYTER",
   "package_manager":"pip",
   "base_environment":"default",
   "packages":[
    
   ]
  }
 },
 "nbformat":4,
 "nbformat_minor":4
}