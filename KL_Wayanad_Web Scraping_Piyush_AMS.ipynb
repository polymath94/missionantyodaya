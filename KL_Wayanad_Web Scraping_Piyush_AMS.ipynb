{
 "cells": [
  {
   "cell_type": "markdown",
   "metadata": {},
   "source": [
    "## Web Scraping using Selenium in Python to compile villagewise report on infrastructure from Mission Antyodaya website. "
   ]
  },
  {
   "cell_type": "code",
   "execution_count": 1,
   "metadata": {},
   "outputs": [],
   "source": [
    "import pandas as pd    #Importing Pandas library to create dataframes for further data manipulation\n",
    "import os              #The OS module helps us to communicate with the operating system and create directories to store files\n",
    "import glob            # glob module is used in Python to sort filenames \n",
    "from selenium import webdriver #selenium module helps in automating browser functions; webdriver class helps in \n",
    "                               #performing specific tasks in relation to automation\n",
    "import time            #time module in Python helps in performing specific time-related tasks; w.r.t Selenium, it helps in \n",
    "                       #keeping browser wait for specific period of time to complete a particular task\n",
    "    \n",
    "from selenium.webdriver.support.ui import WebDriverWait\n",
    "from selenium.webdriver.support import expected_conditions as EC\n",
    "from selenium.webdriver.common.by import By\n",
    "from selenium.common.exceptions import (ElementNotVisibleException,\n",
    "                                        ElementNotSelectableException)\n",
    "from selenium.common.exceptions import TimeoutException"
   ]
  },
  {
   "cell_type": "code",
   "execution_count": 2,
   "metadata": {},
   "outputs": [],
   "source": [
    "os.chdir('C:/Users/india/OneDrive/Desktop/AMS India Application') #changing working directory to a specific location"
   ]
  },
  {
   "cell_type": "markdown",
   "metadata": {},
   "source": [
    "### Chromedriver downloaded to this location for further tasks"
   ]
  },
  {
   "cell_type": "code",
   "execution_count": 3,
   "metadata": {},
   "outputs": [],
   "source": [
    "chromeOptions = webdriver.ChromeOptions() #This class within selenium is used to control properties of chromedriver"
   ]
  },
  {
   "cell_type": "code",
   "execution_count": 4,
   "metadata": {},
   "outputs": [],
   "source": [
    "prefs = {\"download.default_directory\" : \"C:\\\\Users\\\\india\\\\OneDrive\\\\Desktop\\\\AMS India Application\\\\\",\n",
    "         \"download.prompt_for_download\": False,\n",
    "         \"download.directory_upgrade\": True,\n",
    "         \"safebrowsing_for_trusted_sources_enabled\": False,\n",
    "         \"safebrowsing.enabled\": False}\n",
    "chromeOptions.add_experimental_option(\"prefs\",prefs) #setting preferences for the various functionalities of the driver"
   ]
  },
  {
   "cell_type": "code",
   "execution_count": 5,
   "metadata": {},
   "outputs": [
    {
     "name": "stderr",
     "output_type": "stream",
     "text": [
      "<ipython-input-5-0d363bf259ed>:1: DeprecationWarning: use options instead of chrome_options\n",
      "  driver = webdriver.Chrome(\"C:/Program Files (x86)/chromedriver.exe\", chrome_options=chromeOptions) #helps in launching the Chrome browser under\n"
     ]
    }
   ],
   "source": [
    "driver = webdriver.Chrome(\"C:/Program Files (x86)/chromedriver.exe\", chrome_options=chromeOptions) #helps in launching the Chrome browser under \n",
    "                                                                            #controlled conditions set by Selenium automated \n",
    "                                                                            #tests"
   ]
  },
  {
   "cell_type": "code",
   "execution_count": 6,
   "metadata": {},
   "outputs": [
    {
     "name": "stdout",
     "output_type": "stream",
     "text": [
      "Waiting to load website...\n",
      "Website loaded\n",
      "Website maximized\n"
     ]
    }
   ],
   "source": [
    "print(\"Waiting to load website...\")\n",
    "driver.get('https://missionantyodaya.nic.in/preloginStateInfrastructureReports2020.html')  \n",
    "print(\"Website loaded\")\n",
    "driver.maximize_window()\n",
    "print(\"Website maximized\")"
   ]
  },
  {
   "cell_type": "code",
   "execution_count": 7,
   "metadata": {},
   "outputs": [],
   "source": [
    "path = r'C:/Users/india/OneDrive/Desktop/AMS India Application' #setting new directory location\n",
    "if not os.path.exists(path):      #reconfirming whether directory exists or not\n",
    "    os.makedirs(path)             #if directory does not exist; new directory will be created using the address specified\n",
    "os.chdir(path)"
   ]
  },
  {
   "cell_type": "markdown",
   "metadata": {},
   "source": [
    "## Going to Mission Antyodaya link and choosing Kerala state"
   ]
  },
  {
   "cell_type": "code",
   "execution_count": 8,
   "metadata": {},
   "outputs": [
    {
     "name": "stdout",
     "output_type": "stream",
     "text": [
      "Waiting to show all State names...\n",
      "Waiting to choose Kerala...\n",
      "Waiting to show all District names in Kerala...\n",
      "Number of rows in District List   =  16\n",
      "\n"
     ]
    }
   ],
   "source": [
    "def rows_maximize():\n",
    "    driver.find_element_by_xpath(\"//*[@id='example_wrapper']/div[1]/button[1]\").click()\n",
    "    \n",
    "    try:\n",
    "        driver.find_element_by_xpath(\"//*[@id='example_wrapper']/div[1]/div/button[4]\").click() #Button 4 shows \"Show all rows\"\n",
    "    except:\n",
    "        driver.find_element_by_xpath(\"//*[@id='example_wrapper']/div[1]/div/button[4]\").click()  \n",
    "        \n",
    "print(\"Waiting to show all State names...\")\n",
    "rows_maximize()\n",
    "\n",
    "print(\"Waiting to choose Kerala...\")\n",
    "driver.find_element_by_xpath(\"//*[@id='example']/tbody/tr[28]/td[1]/a\").click() #CHOOSING KERALA State\n",
    "time.sleep(6)\n",
    "\n",
    "print(\"Waiting to show all District names in Kerala...\")\n",
    "rows_maximize()\n",
    "    \n",
    "a=len(driver.find_elements_by_xpath(\"//*[@id='example']/tbody/tr\"))\n",
    "#Variable 'a' represents number of rows in the table. It includes extra rows like \"All India\" and \"State Total\"\n",
    "\n",
    "print (\"Number of rows in District List \", \" = \", a)\n",
    "print()"
   ]
  },
  {
   "cell_type": "code",
   "execution_count": 9,
   "metadata": {},
   "outputs": [],
   "source": [
    "newpath = r'C:/Users/india/OneDrive/Desktop/AMS India Application/Kerala' #setting new directory location\n",
    "if not os.path.exists(newpath):      #reconfirming whether directory exists or not\n",
    "    os.makedirs(newpath)             #if directory does not exist; new directory will be created using the address specified\n",
    "os.chdir(newpath)"
   ]
  },
  {
   "cell_type": "markdown",
   "metadata": {},
   "source": [
    "# district"
   ]
  },
  {
   "cell_type": "code",
   "execution_count": 12,
   "metadata": {},
   "outputs": [
    {
     "ename": "SyntaxError",
     "evalue": "invalid syntax (<ipython-input-12-d5f3cf87148f>, line 6)",
     "output_type": "error",
     "traceback": [
      "\u001b[1;36m  File \u001b[1;32m\"<ipython-input-12-d5f3cf87148f>\"\u001b[1;36m, line \u001b[1;32m6\u001b[0m\n\u001b[1;33m    if district_list_appear==True:\u001b[0m\n\u001b[1;37m                                 ^\u001b[0m\n\u001b[1;31mSyntaxError\u001b[0m\u001b[1;31m:\u001b[0m invalid syntax\n"
     ]
    }
   ],
   "source": [
    "#Selecting district\n",
    "for i in range(3,(3 + a)):\n",
    "    try:\n",
    "        wait_1 = WebDriverWait(driver, timeout=20)\n",
    "        district_list_appear = wait_1.until(EC.element_to_be_clickable(by.ID(\"example\"))\n",
    "        if district_list_appear:\n",
    "                                element_1 = driver.find_element_by_id(\"example\")\n",
    "                                print(\"District list appeared\")\n",
    "      \n",
    "    except TimeoutException:\n",
    "        print(\"Timed out waiting for page containing list of districts to load!\")\n",
    "    \n",
    "    finally:\n",
    "          driver.close()\n",
    "     \n",
    "    driver.find_element_by_xpath(\"//*[@id='example']/tbody/tr[\"+str(i)+\"]/td[1]/a\").click() \n",
    "    time.sleep(5)\n",
    "    print(\"About to begin extracting district\")\n",
    "    print(\"i = \", i)\n",
    "    rows_maximize()\n",
    "   \n",
    "    time.sleep(7)\n",
    "    temp_a=driver.find_element_by_xpath(\"//*[@id='reportForm']/div/div/div/table/tbody/tr/td[1]/p\").text\n",
    "    temp_a = temp_a.split(\" >> \")  #Splitting the District and Block Names from the HTML element used to identify them.\n",
    "    temp_a1=(temp_a[0].split(\" : \"))[1] #Temp1 is State name.\n",
    "    temp_a2=(temp_a[1].split(\" : \"))[1] #Temp2 is Dist name. \n",
    "\n",
    "    print (\"Now extracing district of \",temp_a2,\"in the state of\", temp_a1) #Show District Name\n",
    "    print()\n",
    "\n",
    "    b = len(driver.find_elements_by_xpath(\"//*[@id='example']/tbody/tr/td/a\"))\n",
    "    #Number of rows in table containing Block names within a district. \n",
    "    \n",
    "    print (\"Number of rows in Block List \", \" = \", b)\n",
    "    print()\n",
    "    \n",
    "    rows_maximize()\n",
    "\n",
    "    print (\"All blocks in\", temp_a2, \"shown\")\n",
    "    print()\n",
    "    \n",
    "    print(\"Number of blocks in \" + temp_a2 + \" = \" + str(b)) \n",
    "    print()\n",
    "    \n",
    "    #Instruction to print number of rows\n",
    "    time.sleep(10)\n",
    "    \n",
    "    blocks = driver.find_elements_by_xpath('//*[@id=\"example\"]/tbody/tr/td/a')\n",
    "    \n",
    "    for block in blocks:\n",
    "        print(\"List of blocks in \",temp_a2)\n",
    "        print(block.text)\n",
    "        print()\n",
    "        print()\n",
    "\n",
    "#Selecting blocks\n",
    "\n",
    "    for j in range(4, (4 + b)):\n",
    "        try:\n",
    "        wait_2 = WebDriverWait(driver, timeout=20)\n",
    "        block_list_appear = wait.until(EC.presence_of_element_located((By.ID,\"example\"))\n",
    "                                          \n",
    "            if block_list_appear:\n",
    "                                       element_2 = driver.find_element_by_id(\"example\")\n",
    "                                       print(\"Block list appeared\")\n",
    "      \n",
    "        except TimeoutException:\n",
    "            print(\"Timed out waiting for page containing list of blocks to load!\")\n",
    "    \n",
    "        finally:\n",
    "           driver.close()\n",
    "                                                                                \n",
    "\n",
    "        driver.find_element_by_xpath(\"//*[@id='example']/tbody/tr[\"+str(j)+\"]/td[1]/a\").click()   \n",
    "        time.sleep(10)\n",
    "        print(\"j = \", j)\n",
    "        \n",
    "        temp_b = driver.find_element_by_xpath(\"//*[@id='reportForm']/div/div/div/table/tbody/tr/td[1]/p\").text\n",
    "        temp_b = temp_b.split(\" >> \")  #Splitting the District and Block Names from the HTML element used to identify them.\n",
    "        temp_b1=(temp_b[0].split(\" : \"))[1] #Temp1 is State name.\n",
    "        temp_b2=(temp_b[1].split(\" : \"))[1] #Temp2 is Dist name. \n",
    "        temp_b3=(temp_b[2].split(\" : \"))[1] #Temp2 is Block name. \n",
    "\n",
    "        print (\"Now extracting\",temp_b3,\"in the district of\", temp_b2, \"in the state of\", temp_b1) #Block Name\n",
    "        print ()\n",
    "        \n",
    "        rows_maximize()\n",
    "            \n",
    "        print (\"All GPs in \", temp_b3, \"shown\")\n",
    "        print ()\n",
    "            \n",
    "        g = len(driver.find_elements_by_xpath(\"//*[@id='example']/tbody/tr/td/a\"))\n",
    "        #Number of rows in table containing GP names within a block. \n",
    "\n",
    "        print(\"Number of GPs in \" + temp_b3 + \" = \" + str(g)) \n",
    "        print ()\n",
    "\n",
    "        time.sleep(10)  \n",
    "        \n",
    "        #Selecting GPs\n",
    "        for k in range(5,(5 + g)):\n",
    "                        try:\n",
    "                            wait_3 = WebDriverWait(driver, timeout=20)\n",
    "                            GP_list_appear = wait.until(EC.presence_of_element_located((By.ID,\"example\"))\n",
    "                                          \n",
    "                            if GP_list_appear:\n",
    "                                                        element_3 = driver.find_element_by_id(\"example\")\n",
    "                                                        print(\"GP list appeared\")\n",
    "      \n",
    "                        except TimeoutException:\n",
    "                            print(\"Timed out waiting for page containing list of GPs to load!\")\n",
    "\n",
    "                        finally:\n",
    "                              driver.close()\n",
    "                                                              \n",
    "                    driver.find_element_by_xpath(\"//*[@id='example']/tbody/tr[\"+str(k)+\"]/td[1]/a\").click()   \n",
    "                    time.sleep(10)\n",
    "                    print(\"k = \", k)\n",
    "\n",
    "                    Temp = driver.find_element_by_xpath(\"//*[@id='reportForm']/div/div/div/table/tbody/tr/td[1]/p\").text\n",
    "                    print(Temp)\n",
    "                    print ()\n",
    "\n",
    "                    rows_maximize()\n",
    "\n",
    "                    try:\n",
    "                        driver.find_element_by_xpath(\"//*[@id='example_wrapper']/div[1]/button[3]\").click()\n",
    "                    except:\n",
    "                        time.sleep(15)\n",
    "                        driver.find_element_by_xpath(\"//*[@id='example_wrapper']/div[1]/button[3]\").click()\n",
    "\n",
    "                    try:\n",
    "                        Data=pd.read_csv('C:/Users/india/OneDrive/Desktop/AMS India Application/MA - .csv') \n",
    "                        #parsing the information in downloaded CSV file\n",
    "                    except:\n",
    "                        time.sleep(10)\n",
    "                        Data=pd.read_csv('C:/Users/india/OneDrive/Desktop/AMS India Application/MA - .csv') \n",
    "                       #parsing the information in downloaded CSV file\n",
    "\n",
    "                    Temp = Temp.split(\" >> \")  #Splitting the District and Block Names from the HTML element used to identify them.\n",
    "                    Temp1=(Temp[0].split(\" : \"))[1] #Temp1 is State name.\n",
    "                    Temp2=(Temp[1].split(\" : \"))[1] #Temp2 is Dist name. \n",
    "                    Temp3=(Temp[2].split(\" : \"))[1] #Temp3 is Block name. \n",
    "                    Temp4=(Temp[3].split(\" : \"))[1] #Temp4 is GP name.\n",
    "\n",
    "                    print (\"Now extracting GP of\",Temp4,\"in the block of\", Temp3, \"in the district of\", Temp2, \"in the state of\", Temp1) \n",
    "                    print ()\n",
    "                    print (\"k = \", k)\n",
    "\n",
    "                    Data['State']=Temp1[:-5]              #Getting a substring of HTML element to get 'District Name'\n",
    "                    Data['State_Code']=Temp1[-3:-1]       #Getting a substring of HTML element to get 'District Code'\n",
    "                    Data['District']=Temp2[:-6]                 #Getting a substring of HTML element to get 'Block Name'\n",
    "                    Data['District_Code']=Temp2[-4:-1]          #Getting a substring of HTML element to get 'Block Code'\n",
    "                    Data['Block']=Temp3[:-6]                 #Getting a substring of HTML element to get 'Block Name'\n",
    "                    Data['Block_Code']=Temp3[-5:-1]          #Getting a substring of HTML element to get 'Block Code'\n",
    "                    Data['GP']=Temp4[:-8]                 #Getting a substring of HTML element to get 'Block Name'\n",
    "                    Data['GP_Code']=Temp4[-7:-1]          #Getting a substring of HTML element to get 'Block Code'\n",
    "\n",
    "                    Data.to_csv(Temp4+'.csv',index=False)    #Naming CSV file based on GP Name\n",
    "                    os.remove(\"C:/Users/india/OneDrive/Desktop/AMS India Application/MA - .csv\")\n",
    "                    #Removing original CSV file\n",
    "                    print(Temp4, \"Gram Panchayat extracted\")\n",
    "                    print ()\n",
    "                    print(\"Going back to GP list\")\n",
    "                    driver.find_element_by_xpath(\"//*[@id='backButtion']\").click()      #Going back to GP list   \n",
    "                    time.sleep(10)\n",
    "                    rows_maximize()\n",
    "                    time.sleep(5) \n",
    "                    \n",
    "                    k = k + 1\n",
    "                    print(\"k is now going to be \",k)\n",
    "                    if k > (5 + g - 1):\n",
    "                        break \n",
    "\n",
    "                    time.sleep(10) \n",
    "                    \n",
    "                     \n",
    "                    \n",
    "        print(Temp3, \"Block extracted\")\n",
    "        print(\"Going back to Block list\")\n",
    "        driver.find_element_by_xpath(\"//*[@id='backButtion']\").click()      #Going back to Block list\n",
    "        time.sleep(10)\n",
    "        rows_maximize()\n",
    "        \n",
    "        print ()\n",
    "        j = j + 1\n",
    "        print(\"j is now going to be \", j)\n",
    "        if j > (4 + b - 1):\n",
    "            break\n",
    "                     \n",
    "       \n",
    "   \n",
    "\n",
    "print (Temp2, \"District extracted\")\n",
    "print ()\n",
    "    \n",
    "i = i + 1\n",
    "if i > (3 + a - 1):\n",
    "    break\n",
    "\n",
    "print(\"Going back to District list\")\n",
    "driver.find_element_by_xpath(\"//*[@id='backButtion']\").click()      #Going back to District list \n",
    "rows_maximize()\n",
    "time.sleep(20)"
   ]
  },
  {
   "cell_type": "markdown",
   "metadata": {},
   "source": []
  },
  {
   "cell_type": "code",
   "execution_count": null,
   "metadata": {},
   "outputs": [],
   "source": [
    "extension = 'csv' #Specifying extension of file required \n",
    "result = glob.glob('*.{}'.format(extension)) \n",
    "#used to sort file names; once all GPs across all blocks have been downloaded as CSV files, they can all be compiled \n",
    "#in a single file using glob module. \n",
    "\n",
    "Data=pd.read_csv(result[0])\n",
    "for i in range(0,len(result)): \n",
    "    Data=Data.append(pd.read_csv(result[i]))    \n",
    "    \n",
    "#all block CSVs compiled to form a list of villages across a district or multiple districts depending upon \n",
    "#the number of times the program is run\n",
    "\n",
    "\n",
    "for i in range(len(Data.iloc[0])):\n",
    "    Data.iloc[0,i]=i          \n",
    "    #Among rows and columns, columns are more numerous and this code reflects that\n",
    "\n",
    "    \n",
    "Data.to_csv('Panamaram.csv',index=False)  #Creating a new CSV file for the Block where GPs will be added. "
   ]
  },
  {
   "cell_type": "code",
   "execution_count": null,
   "metadata": {},
   "outputs": [],
   "source": [
    "extension = 'csv' #Specifying extension of file required \n",
    "result = glob.glob('*.{}'.format(extension)) \n",
    "#used to sort file names; once all GPs across all blocks have been downloaded as CSV files, they can all be compiled \n",
    "#in a single file using glob module. \n",
    "\n",
    "df=pd.read_csv(result[0])\n",
    "for i in range(1,len(result)): \n",
    "    df=df.append(pd.read_csv(result[i]))    \n",
    "    \n",
    "#all block CSVs compiled to form a list of villages across a district or multiple districts depending upon \n",
    "#the number of times the program is run\n",
    "\n",
    "\n",
    "for i in range(len(Data.iloc[0])):\n",
    "    df.iloc[0,i]=i          \n",
    "    #Among rows and columns, columns are more numerous and this code reflects that\n",
    "\n",
    "    \n",
    "df.to_csv('Wayanad.csv',index=False)  #Creating a new CSV file for the entire district where GPs will be added. "
   ]
  },
  {
   "cell_type": "code",
   "execution_count": null,
   "metadata": {},
   "outputs": [],
   "source": []
  },
  {
   "cell_type": "code",
   "execution_count": null,
   "metadata": {},
   "outputs": [],
   "source": []
  },
  {
   "cell_type": "code",
   "execution_count": null,
   "metadata": {},
   "outputs": [],
   "source": []
  },
  {
   "cell_type": "code",
   "execution_count": null,
   "metadata": {},
   "outputs": [],
   "source": []
  }
 ],
 "metadata": {
  "celltoolbar": "Raw Cell Format",
  "kernelspec": {
   "display_name": "Python 3",
   "language": "python",
   "name": "python3"
  },
  "language_info": {
   "codemirror_mode": {
    "name": "ipython",
    "version": 3
   },
   "file_extension": ".py",
   "mimetype": "text/x-python",
   "name": "python",
   "nbconvert_exporter": "python",
   "pygments_lexer": "ipython3",
   "version": "3.8.3"
  }
 },
 "nbformat": 4,
 "nbformat_minor": 4
}
